{
 "cells": [
  {
   "cell_type": "markdown",
   "id": "06bd0548",
   "metadata": {},
   "source": [
    "### Python Code to overwrite the backend files"
   ]
  },
  {
   "cell_type": "code",
   "execution_count": 68,
   "id": "4e2ff31a",
   "metadata": {},
   "outputs": [],
   "source": [
    "def change_url_file_dynamic(url,name):\n",
    "        with open('Demo_download_test/demofile3.py') as f:\n",
    "            lines = f.readlines()\n",
    "        data = \"\".join(lines)\n",
    "        output_data = data[:96].format(name,name,name)+data[96:97]+str(name)+\",kwargs={'name':'\"+str(name)+\"'}))\\nexcept:\\n\\tpass\"\n",
    "        f = open(url, \"a\")\n",
    "        f.write(\"\\n\"+output_data)\n",
    "        f.close()\n",
    "        return output_data"
   ]
  },
  {
   "cell_type": "code",
   "execution_count": 70,
   "id": "cdbc039b",
   "metadata": {},
   "outputs": [
    {
     "data": {
      "text/plain": [
       "\"try:\\n    from .krishadwqedwe.views import cross as krishadwqedwe\\nexcept:\\n    pass\\n\\ntry:\\n\\turlpatterns.append(path('krishadwqedwe/',krishadwqedwe,kwargs={'name':'krishadwqedwe'}))\\nexcept:\\n\\tpass\""
      ]
     },
     "execution_count": 70,
     "metadata": {},
     "output_type": "execute_result"
    }
   ],
   "source": [
    "change_url_file_dynamic('Demo_download_test/demofile2.py','krishadwqedwe')"
   ]
  },
  {
   "cell_type": "code",
   "execution_count": 71,
   "id": "dc2a4c8f",
   "metadata": {},
   "outputs": [],
   "source": [
    "Remove_urls_dynamic('Demo_download_test/demofile2.py','krishadwqedwe')"
   ]
  },
  {
   "cell_type": "code",
   "execution_count": 69,
   "id": "444aa782",
   "metadata": {},
   "outputs": [],
   "source": [
    "def Remove_urls_dynamic(url,name):\n",
    "        with open('Demo_download_test/demofile3.py') as f:\n",
    "            lines = f.readlines()\n",
    "        data = \"\".join(lines)\n",
    "        output_data = data[:96].format(name,name,name)+data[96:116]+\":'\"+str(name)+\"'}))\\nexcept:\\n\\tpass\"\n",
    "        with open(url) as f:\n",
    "            lines = f.readlines()\n",
    "        data = \"\".join(lines)\n",
    "        #final_data = data.replace(output_data,\"\")\n",
    "        try:\n",
    "            final_data= data[:data.index(name)-output_data.index(name)]+data[data.index(name)+len(output_data)-output_data.index(name)+len(name)-4:]\n",
    "            f = open(url, \"w\")\n",
    "            f.write(final_data)\n",
    "            f.close()\n",
    "        except:\n",
    "            pass"
   ]
  },
  {
   "cell_type": "code",
   "execution_count": 91,
   "id": "2235a043",
   "metadata": {},
   "outputs": [],
   "source": []
  },
  {
   "cell_type": "code",
   "execution_count": 90,
   "id": "ed262d7d",
   "metadata": {},
   "outputs": [],
   "source": [
    "data = {\n",
    "  \"userkey3\": \"EIaR\",\n",
    "  \"userkey4\": \"wDpo\",\n",
    "  \"userkey1\": \"yieX\",\n",
    "  \"userkey5\": \"fKwP\"\n",
    "}\n",
    "\n",
    "with open('Demo_download_test/json_file.json', 'w') as f:\n",
    "                json.dump(data, f, indent=2)"
   ]
  },
  {
   "cell_type": "code",
   "execution_count": 92,
   "id": "88ed7438",
   "metadata": {},
   "outputs": [],
   "source": [
    "import json\n",
    "\n",
    "# JSON file\n",
    "f = open ('Demo_download_test/json_file.json', \"r\")\n",
    "  \n",
    "# Reading from file\n",
    "data = json.load(f)"
   ]
  },
  {
   "cell_type": "code",
   "execution_count": 93,
   "id": "3dc555db",
   "metadata": {},
   "outputs": [
    {
     "data": {
      "text/plain": [
       "{'userkey3': 'EIaR',\n",
       " 'userkey4': 'wDpo',\n",
       " 'userkey1': 'yieX',\n",
       " 'userkey5': 'fKwP'}"
      ]
     },
     "execution_count": 93,
     "metadata": {},
     "output_type": "execute_result"
    }
   ],
   "source": [
    "data"
   ]
  },
  {
   "cell_type": "code",
   "execution_count": 94,
   "id": "46c8fc21",
   "metadata": {},
   "outputs": [],
   "source": [
    "del data['userkey3']"
   ]
  },
  {
   "cell_type": "code",
   "execution_count": 95,
   "id": "72239ca7",
   "metadata": {},
   "outputs": [
    {
     "data": {
      "text/plain": [
       "{'userkey4': 'wDpo', 'userkey1': 'yieX', 'userkey5': 'fKwP'}"
      ]
     },
     "execution_count": 95,
     "metadata": {},
     "output_type": "execute_result"
    }
   ],
   "source": [
    "data"
   ]
  },
  {
   "cell_type": "code",
   "execution_count": null,
   "id": "f0b83c9c",
   "metadata": {},
   "outputs": [],
   "source": []
  },
  {
   "cell_type": "code",
   "execution_count": null,
   "id": "0ed90d3d",
   "metadata": {},
   "outputs": [],
   "source": []
  },
  {
   "cell_type": "code",
   "execution_count": null,
   "id": "913b82e5",
   "metadata": {},
   "outputs": [],
   "source": []
  },
  {
   "cell_type": "code",
   "execution_count": null,
   "id": "96d8651f",
   "metadata": {},
   "outputs": [],
   "source": []
  },
  {
   "cell_type": "code",
   "execution_count": null,
   "id": "8caa3a49",
   "metadata": {},
   "outputs": [],
   "source": []
  },
  {
   "cell_type": "code",
   "execution_count": 13,
   "id": "59874c62",
   "metadata": {},
   "outputs": [
    {
     "data": {
      "text/plain": [
       "640"
      ]
     },
     "execution_count": 13,
     "metadata": {},
     "output_type": "execute_result"
    }
   ],
   "source": [
    "data.index('fKwP')"
   ]
  },
  {
   "cell_type": "code",
   "execution_count": 15,
   "id": "527ca0f1",
   "metadata": {},
   "outputs": [
    {
     "data": {
      "text/plain": [
       "15"
      ]
     },
     "execution_count": 15,
     "metadata": {},
     "output_type": "execute_result"
    }
   ],
   "source": [
    "output_data.index('fKwP')"
   ]
  },
  {
   "cell_type": "code",
   "execution_count": 16,
   "id": "c8c75889",
   "metadata": {},
   "outputs": [
    {
     "data": {
      "text/plain": [
       "146"
      ]
     },
     "execution_count": 16,
     "metadata": {},
     "output_type": "execute_result"
    }
   ],
   "source": [
    "len(output_data)"
   ]
  },
  {
   "cell_type": "code",
   "execution_count": 24,
   "id": "c12346fd",
   "metadata": {},
   "outputs": [
    {
     "data": {
      "text/plain": [
       "625"
      ]
     },
     "execution_count": 24,
     "metadata": {},
     "output_type": "execute_result"
    }
   ],
   "source": [
    "data[:data.index(name)-output_data.index(name)]+data[data.index(name)+len(output_data)-output_data.index(name):]"
   ]
  },
  {
   "cell_type": "code",
   "execution_count": 23,
   "id": "65653c22",
   "metadata": {},
   "outputs": [
    {
     "data": {
      "text/plain": [
       "771"
      ]
     },
     "execution_count": 23,
     "metadata": {},
     "output_type": "execute_result"
    }
   ],
   "source": [
    "len(data)"
   ]
  },
  {
   "cell_type": "code",
   "execution_count": 12,
   "id": "e1450329",
   "metadata": {},
   "outputs": [],
   "source": [
    "output_data = data[:96].format(name,name,name)+data[96:97]+str(name)+\",kwargs={'name':'\"+str(name)+\"'}))\\nexcept:\\n\\tpass\""
   ]
  },
  {
   "cell_type": "code",
   "execution_count": 13,
   "id": "7a9266eb",
   "metadata": {},
   "outputs": [
    {
     "data": {
      "text/plain": [
       "\"try:\\n    from .vijaya.views import cross as vijaya\\nexcept:\\n    pass\\n\\ntry:\\n\\turlpatterns.append(path('vijaya/',vijaya,kwargs={'name':'vijaya'}))\\nexcept:\\n\\tpass\""
      ]
     },
     "execution_count": 13,
     "metadata": {},
     "output_type": "execute_result"
    }
   ],
   "source": [
    "output_data"
   ]
  },
  {
   "cell_type": "code",
   "execution_count": null,
   "id": "c030cf28",
   "metadata": {},
   "outputs": [],
   "source": []
  },
  {
   "cell_type": "code",
   "execution_count": null,
   "id": "254f833d",
   "metadata": {},
   "outputs": [],
   "source": []
  },
  {
   "cell_type": "code",
   "execution_count": null,
   "id": "a6604c47",
   "metadata": {},
   "outputs": [],
   "source": []
  },
  {
   "cell_type": "code",
   "execution_count": null,
   "id": "48abcb1c",
   "metadata": {},
   "outputs": [],
   "source": []
  },
  {
   "cell_type": "code",
   "execution_count": null,
   "id": "c9426a77",
   "metadata": {},
   "outputs": [],
   "source": []
  },
  {
   "cell_type": "code",
   "execution_count": null,
   "id": "55cd44a0",
   "metadata": {},
   "outputs": [],
   "source": []
  },
  {
   "cell_type": "code",
   "execution_count": null,
   "id": "e65908db",
   "metadata": {},
   "outputs": [],
   "source": []
  },
  {
   "cell_type": "code",
   "execution_count": 1,
   "id": "321e15d4",
   "metadata": {},
   "outputs": [],
   "source": [
    "f = open(\"Demo_download_test/demofile3.txt\", \"w\")\n",
    "f.write(\"Woops! I have deleted the content!\")\n",
    "f.close()"
   ]
  },
  {
   "cell_type": "code",
   "execution_count": 2,
   "id": "13aefa4c",
   "metadata": {},
   "outputs": [],
   "source": [
    "f = open(\"Demo_download_test/demofile3.html\", \"w\")\n",
    "f.write(\"\"\"<!DOCTYPE html>\n",
    "<html>\n",
    "  <head>\n",
    "    <title>Hello World!</title>\n",
    "    <link rel=\"stylesheet\" href=\"styles.css\" />\n",
    "  </head>\n",
    "  <body>\n",
    "      <h1 class=\"title\">Hello World! </h1>\n",
    "      <p id=\"currentTime\"></p>\n",
    "      <script src=\"script.js\"></script>\n",
    "  </body>\n",
    "</html>\"\"\")\n",
    "f.close()"
   ]
  },
  {
   "cell_type": "code",
   "execution_count": 3,
   "id": "95346bec",
   "metadata": {},
   "outputs": [],
   "source": [
    "f = open(\"Demo_download_test/demofile3.py\", \"w\")\n",
    "f.write(\"\"\"mylist=(\"Iphone\",\"Pixel\",\"Samsung\")\n",
    "for i in mylist:\n",
    "    print(i)\"\"\")\n",
    "f.close()"
   ]
  },
  {
   "cell_type": "markdown",
   "id": "eefc7994",
   "metadata": {},
   "source": [
    "### Python code to download folder"
   ]
  },
  {
   "cell_type": "code",
   "execution_count": 7,
   "id": "40990a9f",
   "metadata": {},
   "outputs": [
    {
     "data": {
      "text/plain": [
       "'C:\\\\Users\\\\vijay\\\\Downloads\\\\Demo_download_test.zip'"
      ]
     },
     "execution_count": 7,
     "metadata": {},
     "output_type": "execute_result"
    }
   ],
   "source": [
    "import shutil\n",
    "from pathlib import Path\n",
    "\n",
    "downloads_path = str(Path.home() / \"Downloads\")\n",
    "shutil.make_archive(downloads_path+\"\\\\Demo_download_test\", 'zip',\"Demo_download_test\")"
   ]
  },
  {
   "cell_type": "code",
   "execution_count": 5,
   "id": "9baaeea0",
   "metadata": {},
   "outputs": [
    {
     "data": {
      "text/plain": [
       "'C:\\\\Users\\\\vijay\\\\Downloads'"
      ]
     },
     "execution_count": 5,
     "metadata": {},
     "output_type": "execute_result"
    }
   ],
   "source": []
  },
  {
   "cell_type": "markdown",
   "id": "08e996ae",
   "metadata": {},
   "source": [
    "### Read a file"
   ]
  },
  {
   "cell_type": "code",
   "execution_count": 1,
   "id": "62eddc6c",
   "metadata": {},
   "outputs": [
    {
     "name": "stdout",
     "output_type": "stream",
     "text": [
      "<!DOCTYPE html>\n",
      "\n",
      "<html>\n",
      "\n",
      "  <head>\n",
      "\n",
      "    <title>Hello World!</title>\n",
      "\n",
      "    <link rel=\"stylesheet\" href=\"styles.css\" />\n",
      "\n",
      "  </head>\n",
      "\n",
      "  <body>\n",
      "\n",
      "      <h1 class=\"title\">Hello World! </h1>\n",
      "\n",
      "      <p id=\"currentTime\"></p>\n",
      "\n",
      "      <script src=\"script.js\"></script>\n",
      "\n",
      "  </body>\n",
      "\n",
      "</html>\n"
     ]
    }
   ],
   "source": [
    "with open('Demo_download_test/demofile3.html') as f:\n",
    "    lines = f.readlines()\n",
    "for i in lines:\n",
    "    print(i)"
   ]
  },
  {
   "cell_type": "code",
   "execution_count": 2,
   "id": "6bd73c87",
   "metadata": {},
   "outputs": [
    {
     "data": {
      "text/plain": [
       "['<!DOCTYPE html>\\n',\n",
       " '<html>\\n',\n",
       " '  <head>\\n',\n",
       " '    <title>Hello World!</title>\\n',\n",
       " '    <link rel=\"stylesheet\" href=\"styles.css\" />\\n',\n",
       " '  </head>\\n',\n",
       " '  <body>\\n',\n",
       " '      <h1 class=\"title\">Hello World! </h1>\\n',\n",
       " '      <p id=\"currentTime\"></p>\\n',\n",
       " '      <script src=\"script.js\"></script>\\n',\n",
       " '  </body>\\n',\n",
       " '</html>']"
      ]
     },
     "execution_count": 2,
     "metadata": {},
     "output_type": "execute_result"
    }
   ],
   "source": [
    "lines"
   ]
  },
  {
   "cell_type": "code",
   "execution_count": 3,
   "id": "31b11c5f",
   "metadata": {},
   "outputs": [
    {
     "data": {
      "text/plain": [
       "'<!DOCTYPE html>\\n<html>\\n  <head>\\n    <title>Hello World!</title>\\n    <link rel=\"stylesheet\" href=\"styles.css\" />\\n  </head>\\n  <body>\\n      <h1 class=\"title\">Hello World! </h1>\\n      <p id=\"currentTime\"></p>\\n      <script src=\"script.js\"></script>\\n  </body>\\n</html>'"
      ]
     },
     "execution_count": 3,
     "metadata": {},
     "output_type": "execute_result"
    }
   ],
   "source": [
    "output = \"\".join(lines)\n",
    "output"
   ]
  },
  {
   "cell_type": "code",
   "execution_count": 12,
   "id": "3fe285ab",
   "metadata": {},
   "outputs": [
    {
     "data": {
      "text/plain": [
       "<_io.TextIOWrapper name='Demo_download_test/demofile3.html' mode='r' encoding='cp1252'>"
      ]
     },
     "execution_count": 12,
     "metadata": {},
     "output_type": "execute_result"
    }
   ],
   "source": [
    "f = open('Demo_download_test/demofile3.html','r')\n",
    "f"
   ]
  },
  {
   "cell_type": "code",
   "execution_count": 18,
   "id": "90fc0147",
   "metadata": {},
   "outputs": [],
   "source": [
    "with open('../untitled.txt') as f:\n",
    "        python_code = f.readlines()"
   ]
  },
  {
   "cell_type": "code",
   "execution_count": 19,
   "id": "849ce550",
   "metadata": {},
   "outputs": [
    {
     "data": {
      "text/plain": [
       "['cCNslKXCNMlkszMNlkSZMCklSMXClk']"
      ]
     },
     "execution_count": 19,
     "metadata": {},
     "output_type": "execute_result"
    }
   ],
   "source": [
    "python_code"
   ]
  },
  {
   "cell_type": "markdown",
   "id": "4b495ebc",
   "metadata": {},
   "source": [
    "### Convert txt doc to json format"
   ]
  },
  {
   "cell_type": "code",
   "execution_count": 4,
   "id": "68848b7c",
   "metadata": {},
   "outputs": [
    {
     "data": {
      "text/plain": [
       "<_io.TextIOWrapper name='C:/Users/vijay/OneDrive/Desktop/IdeaBox_Content/python.txt' mode='r' encoding='cp1252'>"
      ]
     },
     "execution_count": 4,
     "metadata": {},
     "output_type": "execute_result"
    }
   ],
   "source": [
    "f = open(\"C:/Users/vijay/OneDrive/Desktop/IdeaBox_Content/python.txt\", \"r\")\n",
    "f"
   ]
  },
  {
   "cell_type": "code",
   "execution_count": 6,
   "id": "e8d72ff9",
   "metadata": {},
   "outputs": [
    {
     "data": {
      "text/plain": [
       "'List_comprehensions\\n\\nmy_list = [\\'Multiple of 6\\' if i % 6 == 0\\nelse \\'Multiple of 2\\' if i % 2 == 0\\nelse \\'Multiple of 3\\' if i % 3 == 0\\nelse i for i in range(1, 20)]\\nprint(my_list)\\n\\n----------------------------------------------------------------------------\\n\\nMerging_Two_Dictionaries\\n\\nmy_dict1 = {\\'a\\' : 1, \\'b\\' : 2, \\'c\\' : 3}\\nmy_dict2 = {\\'d\\' : 4, \\'e\\' : 5, \\'f\\' : 6}\\n\\n# Method 1\\nresult = { **my_dict1, **my_dict2}\\nprint(result)\\n\\n# Method 2\\nresult = my_dict1.copy()\\nresult.update(my_dict2)\\nprint(result)\\n\\n# Method 3\\nresult = {key: value for d in (my_dict1, my_dict2) for key, value in d.items()}\\nprint(result)\\n\\n\\n--------------------------------------------------------------------------------------\\n\\nFile_Handling\\n\\n# Open a file\\nf = open(\\'filename.txt\\')\\n\\n\\n# Read from a file\\nf = open(\\'filename.txt\\', \\'r\\')\\n\\n# To read the whole file\\nprint(f.read())\\n\\n# To read single line\\nprint(f.readline())\\n\\n\\n# Write to a file\\nf = open(\\'filename.txt\\', \\'w\\')\\nf.write(\\'Writing into a file \\\\n\\')\\n\\n\\n# Closing a file\\nf.close()\\n\\n---------------------------------------------------------------------------------------------\\n\\nCalculating_Execution_Time\\n\\nimport time\\n\\nstart_time = time.time()\\n\\n# printing all even numbers till 20\\nfor i in range(20):\\nif i % 2 == 0:\\nprint(i, end = \" \")\\n\\nend_time = time.time()\\ntime_taken = end_time - start_time\\nprint(\"\\\\nTime: \", time_taken)\\n\\n------------------------------------------------------------------------------------------------\\n\\nSorting_a_List_of_Dictionaries\\n\\nperson = [\\n{\\n\\'name\\' : \\'alice\\',\\n\\'age\\' : 22,\\n\\'id\\' : 92345\\n},\\n{\\n\\'name\\' : \\'bob\\',\\n\\'age\\' : 24,\\n\\'id\\' : 52353\\n},\\n{\\n\\'name\\' : \\'tom\\',\\n\\'age\\' : 23,\\n\\'id\\' : 62257\\n}\\n]\\n\\n# Method 1\\nperson.sort(key=lambda item: item.get(\"id\"))\\nprint(person)\\n\\n# Method 2\\nperson = sorted(person, key=lambda item: item.get(\"id\"))\\nprint(person)\\n\\n----------------------------------------------------------------------------------\\n\\nFinding_Highest_Frequency_Element\\n\\nmy_list = [8,4,8,2,2,5,8,0,3,5,2,5,8,9,3,8]\\nprint(\"Most frequent item:\", max(set(my_list), key=my_list.count))\\n\\n------------------------------------------------------------------------------------\\n\\nError_Handling\\n\\nnum1, num2 = 2,0\\ntry:\\nprint(num1 / num2)\\nexcept ZeroDivisionError:\\nprint(\"Exception! Division by Zero not permitted.\")\\nfinally:\\nprint(\"Finally block.\")\\n\\n-------------------------------------------------------------------------------------------\\n\\nFinding_Substring_in_List_of_Strings\\n\\nrecords = [\\n\"Vani Gupta, University of Hyderabad\",\\n\"Elon Musk, Tesla\",\\n\"Bill Gates, Microsoft\",\\n\"Steve Jobs, Apple\"\\n]\\n\\n# Method 1\\nname = \"Vani\"\\nfor record in records:\\nif record.find(name) >= 0:\\nprint(record)\\n\\n# Method 2\\nname = \"Musk\"\\nfor record in records:\\nif name in record:\\nprint(record)\\n\\n-------------------------------------------------------------------------------\\n\\nString_Formatting\\n\\nlanguage = \"Python\"\\n\\n# Method 1\\nprint(language + \" is my favourite programming language.\")\\n\\n# Method 2\\nprint(f\"I code in {language}\")\\n\\n# Method 3\\nprint(\"%s is very easy to learn.\" % (language))\\n\\n# Method 4\\nprint(\"I like the {} programming language.\".format(language))\\n\\n-----------------------------------------------------------------------------------\\n\\nFlattening_a_List\\n\\nugly_list = [10,12,36,[41,59,63],[77],81,93]\\nflat = []\\nfor i in ugly_list:\\nif isinstance(i, list): flat.extend(i)\\nelse: flat.append(i)\\nprint(flat)\\n\\n---------------------------------------------------------------------------\\n\\nUSING_F_STRINGS\\n\\n#Formatting strings with f string.\\nstr_val = \\'books\\'\\nnum_val = 15\\nprint(f\\'{num_val} {str_val}\\') # 15 books\\nprint(f\\'{num_val % 2 = }\\') # 1\\nprint(f\\'{str_val!r}\\') # books\\n\\n#Dealing with floats\\nprice_val = 5.18362\\nprint(f\\'{price_val:.2f}\\') # 5.18\\n\\n#Formatting dates\\nfrom datetime import datetime;\\ndate_val = datetime.utcnow()\\nprint(f\\'{date_val=:%Y-%m-%d}\\') # date_val=2021-09-24\\n\\n--------------------------------------------------------------------------------------------------\\n\\nSTRINGâ€™S_SIZE_IN_BYTES\\n\\nstr1 = \"hello\"\\nstr2 = \"ðŸ˜€\"\\n\\ndef str_size(s):\\n  return len(s.encode(\\'utf-8\\'))\\n\\nstr_size(str1)\\nstr_size(str2)\\n\\n--------------------------------------------------------------------------------------------------\\n\\nCHECKING_IF_A_FILE EXISTS\\n\\n#Checking if a file exists in two ways\\n#1- Using the OS module\\nimport os\\nexists = os.path.isfile(\\'/path/to/file\\')\\n\\n#2- Use the pathlib module for a better performance\\nfrom pathlib import Path\\nconfig = Path(\\'/path/to/file\\')\\nif config.is_file():\\n    pass\\n\\n------------------------------------------------------------------------------------------------\\n\\nPARSING_A_SPREADSHEET\\n\\nimport csv\\ncsv_mapping_list = []\\nwith open(\"/path/to/data.csv\") as my_data:\\n    csv_reader = csv.reader(my_data, delimiter=\",\")\\n    line_count = 0\\n    for line in csv_reader:\\n        if line_count == 0:\\n            header = line\\n        else:\\n            row_dict = {key: value for key, value in zip(header, line)}\\n            csv_mapping_list.append(row_dict)\\n        line_count += 1\\n\\n----------------------------------------------------------------------------------------------------\\n\\nGet_Vowels\\n\\ndef get_vowels(String):\\n    return [each for each in String if each in \"aeiou\"]\\nget_vowels(\"animal\") # [a, i, a]\\nget_vowels(\"sky\") # []\\nget_vowels(\"football\") # [o, o, a]\\n\\n-----------------------------------------------------------------------------------------\\n\\nCheck_duplicates\\n\\ndef check_duplicate(lst):\\n    return len(lst) != len(set(lst))\\ncheck_duplicate([1,2,3,4,5,4,6]) # True\\ncheck_duplicate([1,2,3]) # False\\ncheck_duplicate([1,2,3,4,9]) # False\\n\\n--------------------------------------------------------------\\n\\nFiltering_False_Values\\n\\ndef Filtering(lst):\\n    return list(filter(None,lst))\\nlst=[None,1,3,0,\"\",5,7]\\nFiltering(lst) #[1, 3, 5, 7]\\n\\n----------------------------------------------------------------\\n\\nMemory_Usage\\n\\nimport sys\\nvar1=\"Python\"\\nvar2=100\\nvar3=True\\nprint(sys.getsizeof(var1)) #55\\nprint(sys.getsizeof(var2)) #28\\nprint(sys.getsizeof(var3)) #28\\n\\n------------------------------------------------------------------------\\n\\nShuffle_a_list\\n\\nfrom random import shuffle\\nmy_list1=[1,2,3,4,5,6]\\nmy_list2=[\"A\",\"B\",\"C\",\"D\"]\\nshuffle(my_list1) # [4, 6, 1, 3, 2, 5]\\nshuffle(my_list2) # [\\'A\\', \\'D\\', \\'B\\', \\'C\\']\\n\\n-------------------------------------------------------------------------------\\n\\nChunk\\n\\ndef chunk(my_list, size):\\n    return [my_list[i:i+size] for i in range(0,len(my_list), size)]\\nmy_list = [1, 2, 3, 4, 5, 6]\\nchunk(my_list, 2) # [[1, 2], [3, 4], [5, 6]]\\n\\n---------------------------------------------------------------------------------------\\n\\n'"
      ]
     },
     "execution_count": 6,
     "metadata": {},
     "output_type": "execute_result"
    }
   ],
   "source": [
    "with open(\"C:/Users/vijay/OneDrive/Desktop/IdeaBox_Content/python.txt\") as f:\n",
    "        python = f.readlines()\n",
    "python = \"\".join(python)\n",
    "python"
   ]
  },
  {
   "cell_type": "code",
   "execution_count": 59,
   "id": "046f54d2",
   "metadata": {},
   "outputs": [],
   "source": [
    "L = re.split('---+',python)\n",
    "for i in range(len(L)):\n",
    "    L[i] = L[i].strip()"
   ]
  },
  {
   "cell_type": "code",
   "execution_count": 60,
   "id": "1bda18e9",
   "metadata": {},
   "outputs": [
    {
     "data": {
      "text/plain": [
       "\"List_comprehensions\\n\\nmy_list = ['Multiple of 6' if i % 6 == 0\\nelse 'Multiple of 2' if i % 2 == 0\\nelse 'Multiple of 3' if i % 3 == 0\\nelse i for i in range(1, 20)]\\nprint(my_list)\""
      ]
     },
     "execution_count": 60,
     "metadata": {},
     "output_type": "execute_result"
    }
   ],
   "source": [
    "L[0]"
   ]
  },
  {
   "cell_type": "code",
   "execution_count": 62,
   "id": "7226c1d4",
   "metadata": {},
   "outputs": [
    {
     "data": {
      "text/plain": [
       "dict_keys(['List_comprehensions', 'Merging_Two_Dictionaries', 'File_Handling'])"
      ]
     },
     "execution_count": 62,
     "metadata": {},
     "output_type": "execute_result"
    }
   ],
   "source": [
    "main_dic = {'python':[],'javascript':[],'instructions':[]}\n",
    "dic_sub = {}\n",
    "for i in L[:3]:\n",
    "    a,b = i.split('\\n',1)\n",
    "    dic_sub[a] = b\n",
    "dic_sub.keys()"
   ]
  },
  {
   "cell_type": "code",
   "execution_count": 10,
   "id": "e1506113",
   "metadata": {},
   "outputs": [
    {
     "data": {
      "text/plain": [
       "['----------------------------------------------------------------------------',\n",
       " '--------------------------------------------------------------------------------------',\n",
       " '---------------------------------------------------------------------------------------------',\n",
       " '------------------------------------------------------------------------------------------------',\n",
       " '----------------------------------------------------------------------------------',\n",
       " '------------------------------------------------------------------------------------',\n",
       " '-------------------------------------------------------------------------------------------',\n",
       " '-------------------------------------------------------------------------------',\n",
       " '-----------------------------------------------------------------------------------',\n",
       " '---------------------------------------------------------------------------',\n",
       " '--------------------------------------------------------------------------------------------------',\n",
       " '--------------------------------------------------------------------------------------------------',\n",
       " '------------------------------------------------------------------------------------------------',\n",
       " '----------------------------------------------------------------------------------------------------',\n",
       " '-----------------------------------------------------------------------------------------',\n",
       " '--------------------------------------------------------------',\n",
       " '----------------------------------------------------------------',\n",
       " '------------------------------------------------------------------------',\n",
       " '-------------------------------------------------------------------------------',\n",
       " '---------------------------------------------------------------------------------------']"
      ]
     },
     "execution_count": 10,
     "metadata": {},
     "output_type": "execute_result"
    }
   ],
   "source": [
    "import re\n",
    "x = re.findall(\"---+\", python)\n",
    "x"
   ]
  },
  {
   "cell_type": "code",
   "execution_count": 23,
   "id": "94effb0f",
   "metadata": {},
   "outputs": [],
   "source": [
    "dict_main = {'cloud':[],'Django':[],'Instructions_CrossPlatform':[],'JavaScript':[],'Python':[]}"
   ]
  },
  {
   "cell_type": "code",
   "execution_count": 24,
   "id": "f104a292",
   "metadata": {},
   "outputs": [
    {
     "data": {
      "text/plain": [
       "{'cloud': [],\n",
       " 'Django': [],\n",
       " 'Instructions_CrossPlatform': [],\n",
       " 'JavaScript': [],\n",
       " 'Python': []}"
      ]
     },
     "execution_count": 24,
     "metadata": {},
     "output_type": "execute_result"
    }
   ],
   "source": [
    "dict_main"
   ]
  },
  {
   "cell_type": "code",
   "execution_count": 25,
   "id": "12606229",
   "metadata": {},
   "outputs": [
    {
     "data": {
      "text/plain": [
       "['cloud', 'Django', 'Instructions_CrossPlatform', 'JavaScript', 'Python']"
      ]
     },
     "execution_count": 25,
     "metadata": {},
     "output_type": "execute_result"
    }
   ],
   "source": [
    "list_files = list(dict_main.keys())\n",
    "list_files"
   ]
  },
  {
   "cell_type": "code",
   "execution_count": 65,
   "id": "9bac56a0",
   "metadata": {},
   "outputs": [],
   "source": []
  },
  {
   "cell_type": "code",
   "execution_count": 11,
   "id": "7244f0ad",
   "metadata": {},
   "outputs": [
    {
     "name": "stdout",
     "output_type": "stream",
     "text": [
      "Python \n",
      "New json file is created from data.json file\n"
     ]
    }
   ],
   "source": [
    "def functions_return_dict(x,path):\n",
    "    #path = \"C:/Users/vijay/OneDrive/Desktop/IdeaBox_Content/{}.txt\".format(x)\n",
    "    with open(path,encoding=\"utf8\") as f:\n",
    "        data = f.readlines()\n",
    "    data = \"\".join(data)\n",
    "    L = re.split('---+',data)\n",
    "    for i in range(len(L)):\n",
    "        L[i] = L[i].strip()\n",
    "    returned_dict = {}\n",
    "    for i in L:\n",
    "        try:\n",
    "            a,b = i.split('\\n',1)\n",
    "            if a!='':\n",
    "                returned_dict[a] = b\n",
    "        except:\n",
    "            print(x,i)\n",
    "    return returned_dict\n",
    "    \n",
    "\n",
    "dict_main = {'cloud':[],'Django':[],'Instructions_CrossPlatform':[],'JavaScript':[],'Python':[]}\n",
    "list_files = list(dict_main.keys())\n",
    "for i in list_files:\n",
    "    path = \"C:/Users/vijay/OneDrive/Desktop/IdeaBox_Content/{}.txt\".format(i.strip())\n",
    "    output_dict = functions_return_dict(i,path)\n",
    "    dict_main[i] = output_dict\n",
    "    \n",
    "import json\n",
    "import re\n",
    "with open('IdeaBox_Content.json', 'w') as f:\n",
    "    json.dump(dict_main, f, indent=2)\n",
    "    print(\"New json file is created from data.json file\")"
   ]
  },
  {
   "cell_type": "code",
   "execution_count": 12,
   "id": "7c8f89e8",
   "metadata": {},
   "outputs": [
    {
     "data": {
      "text/plain": [
       "{'cloud': {'Deploy_Django_Heroku': \"\\n\\nStep 1: Setup your Django Project (Local Changes)\\nLet’s create a simple application in Django for showing the deployment. \\n\\nInitialize your Django Project \\ndjango-admin startproject deploy_on_pythonanywhere\\n\\nOpen project in your editor and under settings.py make:\\nALLOWED_HOSTS = ['*']\\nCreate requirements.txt file using the command\\npip3 freeze > requirements.txt\\n\\nFile structure of our project looks like this:\\ndeploy_on_pythonanywhere\\n├── db.sqlite3\\n├── deploy_on_pythonanywhere\\n│ \\xa0 ├── asgi.py\\n│ \\xa0 ├── __init__.py\\n│ \\xa0 ├── __pycache__\\n│ \\xa0 │ \\xa0 ├── __init__.cpython-38.pyc\\n│ \\xa0 │ \\xa0 ├── settings.cpython-38.pyc\\n│ \\xa0 │ \\xa0 ├── urls.cpython-38.pyc\\n│ \\xa0 │ \\xa0 └── wsgi.cpython-38.pyc\\n│ \\xa0 ├── settings.py\\n│ \\xa0 ├── urls.py\\n│ \\xa0 └── wsgi.py\\n├── manage.py\\n└── requirements.txt\\n\\nLet’s Start our Django Server\\ncd deploy_on_pythonanywhere\\npython3 manage.py runserver\\n\\n\\nYahooooo, your server is running on localhost But wait, wait… that’s not over, let’s make it live for the world\\n\\nStep 2: Upload Project to GitHub\\nFollow this link to push the project on github – How to Upload a Project on Github?\\nStep 3: Deploy Project on pythonanywhere\\nCreate an account on pythonanywhere – \\xa0Click Here\\nAfter Register, you can see the page like this\\n\\n\\nNow click on Console then select Bash you’ll see like this\\n\\n\\nRun following commands on bash:\\nClone GitHub repo\\ngit clone https://github.com/Prakhar-Mangal/deploy_on_pythonanywhere.git\\nNow create and setup environment variables\\npython3 -m venv env #create virtual environment\\nsource env/bin/activate #activate virtual environment\\ncd deploy_on_pythonanywhere #navigate inside your project \\npip install -r requirements.txt #installing dependencies using requirements.txt\\nNow copy the path of your directories which you installed on bash\\nType command on bash\\ncd\\nls # get list of directories\\npwd #copy the path for future use\\n\\nHere it looks like:\\n\\n\\nHurree, we set up our project successfully : ) But wait wait, follow the final process and we’re ready to go\\n\\nNow click on Web then select Add a new web app\\n\\n\\nClick on next and follow the procedure\\nselect Django as the framework\\n\\n\\nSelect python3.8 (latest) and click on next till last.\\n\\xa0\\n\\n\\nNow under the Web section open the WSGI configuration file\\n\\n\\nEdit WSGI configuration file on line no. 12 and 17 remove the word mysite with your project name which you cloned from GitHub, in my case it is deploy_on_pythonanywhere\\n\\n\\nNow it looks like this and then click on save:\\n\\n\\nSelect Virtualenv section under Web:\\n\\n\\nEnter the path of Virtualenv as we created using bash (refer above pwd command for path)\\n\\n\\nClick on Reload under the Web section and visit the link\\n\\nOK, so it's finally done.\",\n",
       "  'Deploy_ReactApp_Heroku': \"\\n\\nRequirements:\\nNode / NPM\\u200a—\\u200aClick the link and download the installer\\nGit\\u200a—\\u200aClick the link and download the installer\\nHeroku CLI\\u200a—\\u200aClick the link and download the installer\\nSteps:\\nSign up for Heroku\\nSetup our React App for deployment\\nCreate Heroku git repository\\nStep 1\\u200a—\\u200aSign up For Heroku\\nVisit Heroku for free hosting\\nThis step explains itself, we need to sign up for Heroku before we can do any deployment. So head over to Heroku and sign up. Once you signed up make sure you head over to your email and confirm your account.\\n\\nStep 2\\u200a—\\u200aSetup React App\\npackage.json • Before\\n\\nOpen up your React app (I’m using create-react-app) and open up your package.json file. If your using create-react-app we’re going to add a new object called engines. Inside of our engines object, we need to specify the versions for npm and node. To do this open up your terminal and type in:\\n\\nnpm -v\\nPress enter\\n\\nnode -v\\nPress enter\\n\\nYour versions may be different than mine, but that's fine. Once you specified your engine versions save your file.\\n\\nStep 3\\u200a—\\u200aCreate Heroku Git Repository\\nWith your terminal still open navigate to your React app folder and change directory into it. Now we need to connect our project to Heroku. If you haven’t already installed the Heroku CLI. To make sure it’s installed correctly run this command:\\n\\nheroku --version\\nYou should see your Heroku CLI version. Once that is installed we need to setup up Heroku git repository by running these commands:\\n\\nheroku login (Enter your Heroku credentials)\\ngit init\\ngit add .\\ngit commit -m “initial commit”\\nheroku create (You should see two links after running this command. Copy the second one)\\ngit remote add heroku PASTE THE LINK YOU JUST COPIED\\ngit push heroku master\\nOnce you run the last command Heroku will start to run some tests on your app. If everything goes right you should see a successful deploy message. Now you’re able to navigate to your app by running:\\n\\nheroku open\\nAnytime you make changes to your app and want to re-deploy the only commands you need to run are:\\n\\ngit add .\\ngit commit -m “any message goes here”\\ngit push heroku master\\nEasier Method \\nNow that I made you go through all of that process, there is an easier method if you use Github. All you have to do is log into your Heroku account; click “new” then “create new app” and give your app a name. After clicking create you should be greeted with a dashboard for the app you just created. Navigate to the deploy tab and sync your Github account with Heroku. After syncing your Github account and can search for the repository you want to sync with Heroku by scrolling down to “App connected to Github” section and searching for the repository you want to sync. You can also set up automatic deployment, so every time you push to the master branch Heroku will rebuild your app for you.\",\n",
       "  'Deploy_ReactApp_AWS': '\\nhttps://medium.com/@mdjahedhossain/how-to-deploy-your-react-app-with-aws-f2c6bda91cce#:~:text=%20How%20to%20deploy%20your%20React%20App%20with,code%20push%20to%20your%20repository%20will...%20More%20',\n",
       "  'Deploy_Django_AWS': '\\nhttps://dev.to/rmiyazaki6499/deploying-a-production-ready-django-app-on-aws-1pk3#:~:text=%20Deploying%20a%20Production-ready%20Django%20app%20on%20AWS,of%20the%20core%20products%2Fservices%20AWS%20provides...%20More%20'},\n",
       " 'Django': {'Basic_Backend_code': '\\nfrom django.contrib import admin\\nfrom django.urls import path, include\\n\\nurlpatterns = [\\n\\tpath(\\'admin/\\', admin.site.urls),\\n\\t# Enter the app name in following syntax for this to work\\n\\tpath(\\'\\', include(\"projectApp.urls\")),',\n",
       "  'Django_Installation': '\\nstep:1\\nInstall pip- Open command prompt and enter following command-\\npython -m pip install -U pip\\n\\nstep:2\\nInstall virtual environment- Enter following command in cmd-\\npip install virtualenv\\nvirtualenv env_site\\n\\nstep:3\\nChange directory to env_site by this command-\\ncd env_site/Scripts/activate\\n\\nstep:4\\nInstall Django- Install django by giving following command-\\npip install django\\n\\nstep:5\\nChange directory to your project path where you want to create a project\\ndjango-admin startproject Project_Name\\ncd Project_Name\\npython manage.py runserver',\n",
       "  'Running_Django_DownloadedProject': '\\nstep:1\\nUnzip the downloaded folder\\n\\nstep:2\\nInstall pip- Open command prompt and enter following command-\\npython -m pip install -U pip\\n\\nstep:3\\nInstall virtual environment- Enter following command in cmd-\\npip install virtualenv\\nvirtualenv env_site\\n\\nstep:4\\nChange directory to env_site by this command-\\ncd env_site/Scripts/activate\\n\\nstep:5\\nInstall Django- Install django by giving following command-\\npip install django\\n\\nChange directory to project path where the downloaded folder located\\ncd Project_Name\\npython manage.py runserver\\n\\nstep:6\\ncopy paste the ip address in the browser you can check the project ui their.',\n",
       "  'Creating_App_Django': '\\nstep:1\\npython manage.py startapp projectApp\\n\\nstep:2\\nShould configure it the settings.py file\\n# Application definition\\n\\nINSTALLED_APPS = [\\n\\t\\'django.contrib.admin\\',\\n\\t\\'django.contrib.auth\\',\\n\\t\\'django.contrib.contenttypes\\',\\n\\t\\'django.contrib.sessions\\',\\n\\t\\'django.contrib.messages\\',\\n\\t\\'django.contrib.staticfiles\\',\\n\\t\\'projectApp\\'\\n]\\n\\nstep3:\\nlist of URL patterns, you need to specify the app name for including your app URLs. Here is the code for it\\nyou need to configure routings paths in urls.py file\\n\\nfrom django.contrib import admin\\nfrom django.urls import path, include\\n\\nurlpatterns = [\\n\\tpath(\\'admin/\\', admin.site.urls),\\n\\t# Enter the app name in following\\n\\t# syntax for this to work\\n\\tpath(\\'\\', include(\"projectApp.urls\")),\\n]',\n",
       "  'Django_Forms': '\\nSyntax:\\n\\nfrom django import forms\\n\\xa0 \\xa0 \\xa0 \\xa0 \\nclass FormName(forms.Form):\\n\\xa0 \\xa0 \\xa0 \\xa0 \\xa0# each field would be mapped as an input field in HTML\\n\\xa0 \\xa0 \\xa0 \\xa0 field_name = forms.Field(**options)\\n\\nSample code:\\n\\n# import the standard Django Forms\\n# from built-in library\\nfrom django import forms\\n\\n# creating a form\\nclass InputForm(forms.Form):\\n\\n\\tfirst_name = forms.CharField(max_length = 200)\\n\\tlast_name = forms.CharField(max_length = 200)\\n\\troll_number = forms.IntegerField(\\n\\t\\t\\t\\t\\thelp_text = \"Enter 6 digit roll number\"\\n\\t\\t\\t\\t\\t)\\n\\tpassword = forms.CharField(widget = forms.PasswordInput())',\n",
       "  'Render_Django_Forms': '\\nPython backend code:\\n\\nfrom django.shortcuts import render\\nfrom .forms import InputForm\\n\\n# Create your views here.\\ndef home_view(request):\\n\\tcontext ={}\\n\\tcontext[\\'form\\']= InputForm()\\n\\treturn render(request, \"home.html\", context)\\n\\nFrotend html code:\\n\\n<form action = \"\" method = \"post\">\\n\\t{% csrf_token %}\\n\\t{{form }}\\n\\t<input type=\"submit\" value=Submit\">\\n</form>',\n",
       "  'Render_HTML_Forms_Get': '\\nFrotend html code:\\n\\n<form action = \"\" method = \"POST\">\\n\\t{% csrf_token %}\\n\\t<label for=\"your_name\">Your name: </label>\\n\\t<input id=\"your_name\" type=\"text\" name=\"your_name\">\\n\\t<input type=\"submit\" value=\"OK\">\\n</form>\\n\\nBackend python code:\\n\\nfrom django.shortcuts import render\\n\\n# Create your views here.\\ndef home_view(request):\\n\\tprint(request.POST)\\n\\treturn render(request, \"home.html\")',\n",
       "  'SendData_From_BackendToFrontend': '\\n# import Http Response from django\\nfrom django.shortcuts import render\\n\\n# create a function\\ndef geeks_view(request):\\n\\t# create a dictionary to pass\\n\\t# data to the template\\n\\tcontext ={\\n\\t\\t\"data\":\"Gfg is the best\",\\n\\t\\t\"list\":[1, 2, 3, 4, 5, 6, 7, 8, 9, 10]\\n\\t}\\n\\t# return response with template and context\\n\\treturn render(request, \"geeks.html\", context)',\n",
       "  'HttpResponse ': '\\n# import Http Response from django\\nfrom django.http import HttpResponse\\n# get datetime\\nimport datetime\\n\\n# create a function\\ndef geeks_view(request):\\n\\t# fetch date and time\\n\\tnow = datetime.datetime.now()\\n\\t# convert to string\\n\\thtml = \"Time is {}\".format(now)\\n\\t# return response\\n\\treturn HttpResponse(html)',\n",
       "  'Python_JSON': '\\nimport json\\n\\n# JSON string\\nemployee = \\'{\"id\":\"09\", \"name\": \"Nitin\", \"department\":\"Finance\"}\\'\\n\\n# Convert string to Python dict\\nemployee_dict = json.loads(employee)\\nprint(employee_dict)\\nprint(type(employee_dict))\\nprint(\"\\\\n\")\\n\\n# Convert Python dict to JSON\\njson_object = json.dumps(employee_dict, indent=4)\\nprint(json_object)\\nprint(type(json_object))'},\n",
       " 'Instructions_CrossPlatform': {'Downloaded_Djnago_Project': '\\nYou can run the downloaded django project from cross platform in your local machine. Follow the guided steps\\n\\nstep:1\\nUnzip the downloaded folder\\n\\nstep:2\\nInstall pip- Open command prompt and enter following command-\\npython -m pip install -U pip\\n\\nstep:3\\nInstall virtual environment- Enter following command in cmd-\\npip install virtualenv\\nvirtualenv env_site\\n\\nstep:4\\nChange directory to env_site by this command-\\ncd env_site/Scripts/activate\\n\\nstep:5\\nInstall Django- Install django by giving following command-\\npip install django\\n\\nChange directory to project path where the downloaded folder located\\ncd Project_Name\\npython manage.py runserver\\n\\nstep:6\\ncopy paste the ip address in the browser you can check the project ui their.',\n",
       "  'Downloaded_ReactsJS_Project': '\\ncd downloaded_folder_name\\nnpm start',\n",
       "  'CrossPlatform_Django_Instructions': '\\n* Dont change or rename the main function name cross in backend python code . Write logic inside it. if you u want to add modular codes insides it you can do no issues.\\n* Dont change cross.html file name in the return function of the backend python code.\\n* If you want to add External Style Sheet for css coding Replace the below header code in the html page, otherwise css,js changes are not reflected. For Inline Style and Embedded Style Sheet no need of it, code will be reflected in the server.\\n<head>\\n\\t<link rel=\"stylesheet\" href=\"{% static \\'cross.css\\' %}\">\\n\\t<link rel=\"stylesheet\" href=\"{% static \\'cross.js\\' %}\">\\n</head>'},\n",
       " 'JavaScript': {'GET_Request': \"\\nfetch('https://example.com/data.json').then(response => response.json()).then(data => console.log(data));\",\n",
       "  'POST_Request': \"\\nfetch('https://example.com/authenticate', {\\n\\xa0 \\xa0 method: 'POST',\\n\\xa0 \\xa0 headers: {\\n\\xa0 \\xa0 \\xa0 \\xa0 'Content-Type': 'application/json',\\n\\xa0 \\xa0 },\\n\\xa0 \\xa0 body: JSON.stringify({ username: 'David', password: '12345' })\\n}).then(response => response.json()).then(data => {\\n\\xa0 \\xa0 console.log(data);\\n}).catch(error => {\\n\\xa0 \\xa0 console.error('Error:', error);\\n});\",\n",
       "  'FormData interface': \"\\nconst formData = new FormData();\\nformData.append('username', 'David');\\nformData.append('password', '12345');\\nfetch('https://example.com/authenticate', {\\n\\xa0 \\xa0 method: 'POST',\\n\\xa0 \\xa0 body: formData\\n}).then(response => response.json()).then(data => {\\n\\xa0 \\xa0 console.log(data);\\n}).catch(error => {\\n\\xa0 \\xa0 console.error('Error:', error);\\n});\",\n",
       "  'Input_Validation': '\\nif (/\\\\S+@\\\\S+\\\\.\\\\S+/.test(\\'david@codeshack.io\\')) {\\n\\xa0 \\xa0 console.log(\\'Email is valid!\\');\\n} else {\\n\\xa0 \\xa0 console.log(\\'Email is invalid!\\');\\n}\\n\\nconst username = \"david123\";\\nif (username.length > 4 && username.length < 16) {\\n\\xa0 \\xa0 console.log(\\'Username is valid!\\');\\n} else {\\n\\xa0 \\xa0 console.log(\\'Username must be between 5 and 15 characters long!\\');\\n}\\n\\nif (/^[a-zA-Z0-9]+$/.test(username)) {\\n\\xa0 \\xa0 console.log(\\'Username is valid!\\');\\n} else {\\n\\xa0 \\xa0 console.log(\\'Username must contain only letters and numerals!\\');\\n}\\n\\nconst num = 12345.12;\\nif (!isNaN(parseFloat(num)) && isFinite(num)) {\\n\\xa0 \\xa0 console.log(\\'Variable is a number!\\');\\n} else {\\n\\xa0 \\xa0 console.log(\\'Variable is not a number!\\');\\n}',\n",
       "  'Storing_Data_in_the_Browser': \"\\nlocalStorage.setItem('username', 'David');\\n\\nconsole.log(localStorage.getItem('username'));\\n\\nif (localStorage.getItem('username')) {\\n\\xa0 \\xa0 console.log('Item exists!');\\n}\\n\\nlocalStorage.removeItem('username');\\n\\n#Remove all items\\nlocalStorage.clear();\",\n",
       "  'Data_Attributes': '\\nHTML\\n\\n<a href=\"#\" data-name=\"David\" data-surname=\"Adams\" data-unique-id=\"30\" data-btn>Click me!</a>\\n\\nJS\\n\\nconst btn = document.querySelector(\\'a[data-btn]\\');\\nbtn.onclick = event => {\\n\\xa0 \\xa0 event.preventDefault();\\n\\xa0 \\xa0 // Output data attributes\\n\\xa0 \\xa0 console.log(btn.dataset.name); // David\\n\\xa0 \\xa0 console.log(btn.dataset.surname); // Adams\\n\\xa0 \\xa0 console.log(btn.dataset.uniqueId); // 30\\n};',\n",
       "  'Inject_HTML': '\\nInject After:\\n\\nHTML\\n<a id=\"home-btn\" href=\"home.html\">Home</a>\\n\\nJS\\ndocument.querySelector(\\'#home-btn\\').insertAdjacentHTML(\\'afterend\\', \\'<a href=\"about.html\">About</a>\\');\\n\\nInject Before:\\n\\nHTML\\n<section id=\"section-2\">\\n\\xa0 \\xa0 <h2>Title 2</h2>\\n\\xa0 \\xa0 <p>Description 2</p>\\n</section>\\n\\nJS\\ndocument.querySelector(\\'#section-2\\').insertAdjacentHTML(\\'beforebegin\\', `\\n\\xa0 \\xa0 <section>\\n\\xa0 \\xa0 \\xa0 \\xa0 <h2>Title 1</h2>\\n\\xa0 \\xa0 \\xa0 \\xa0 <p>Description 1</p>\\n\\xa0 \\xa0 </section>\\n`);',\n",
       "  'Append_and_Prepend HTML': '\\nHTML\\n<ul id=\"list\">\\n\\xa0 \\xa0 <li>Item 2</li>\\n\\xa0 \\xa0 <li>Item 3</li>\\n\\xa0 \\xa0 <li>Item 4</li>\\n</ul>\\n\\nJS\\ndocument.querySelector(\\'#list\\').insertAdjacentHTML(\\'beforeend\\', \\'<li>Item 5</li>\\');\\n\\nPrepend an item to a list element:\\ndocument.querySelector(\\'#list\\').insertAdjacentHTML(\\'afterbegin\\', \\'<li>Item 1</li>\\');',\n",
       "  'URL_Manipulation': '\\nGet Params:\\nconst url = new URL(\\'https://example.com/index.php?name=David&surname=Adams\\');\\nconsole.log(url.searchParams.get(\\'name\\')); // David \\nconsole.log(url.searchParams.get(\\'surname\\')); // Adams\\n\\nRedirect URL:\\nlocation.href = \"https://codeshack.io\";\\n\\nRedirect in 10 seconds:\\nsetTimeout(() => location.href = \"https://codeshack.io\", 10000); \\n\\nGet Hash Value:\\n// URL: http://example.com/home#MyProfile\\nconsole.log(window.location.hash.substr(1)); // Output: MyProfile',\n",
       "  'Arrays': \"\\nappend an item to an array:\\nconst fruits = ['Apple', 'Orange', 'Pineapple'];\\n// Add to the end of the array\\nfruits.push('Strawberry');\\n\\nAppend multiple items:\\nfruits.push('Pear', 'Blueberry');\\n\\nPrepend items to an array:\\nfruits.unshift('Blueberry', 'Kiwi');\\n\\nRemove Item From Array:\\nfruits.shift();\\nfruits.pop();\",\n",
       "  'Array_Validation': \"\\nif (fruits.includes('Pear')) {\\n\\xa0 \\xa0 console.log('Fruit array contains Pear');\\n}\",\n",
       "  'Loop Array': \"\\nfruits.forEach(item => console.log(item));\\nlet fruit = fruits[Math.floor(Math.random()*fruits.length)];\\nconst newFruits = fruits.map(item => item + ' is a fruit.');\",\n",
       "  'Reverse_Array': '\\nconst reversedFruits = fruits.reverse();',\n",
       "  'Create_Class': \"\\n\\nclass Fruit {\\n\\n\\xa0 \\xa0 constructor(name, color) {\\n\\xa0 \\xa0 \\xa0 \\xa0 this._name = name;\\n\\xa0 \\xa0 \\xa0 \\xa0 this._color = color;\\n\\xa0 \\xa0 }\\n\\n\\xa0 \\xa0 eat() {\\n\\xa0 \\xa0 \\xa0 \\xa0 console.log('You ate the ' + this.name + '.');\\n\\xa0 \\xa0 }\\n\\n\\xa0 \\xa0 get name() {\\n\\xa0 \\xa0 \\xa0 \\xa0 return this._name;\\n\\xa0 \\xa0 }\\n\\n\\xa0 \\xa0 set name(name) {\\n\\xa0 \\xa0 \\xa0 \\xa0 this._name = name;\\n\\xa0 \\xa0 }\\n\\n\\xa0 \\xa0 get color() {\\n\\xa0 \\xa0 \\xa0 \\xa0 return this._color;\\n\\xa0 \\xa0 }\\n\\n\\xa0 \\xa0 set color(color) {\\n\\xa0 \\xa0 \\xa0 \\xa0 this._color = color;\\n\\xa0 \\xa0 } \\xa0 \\n\\n}\\n\\n\\nlet apple = new Fruit('Apple', 'Green');\\napple.eat(); // Output: You ate the Apple.\\nconsole.log(apple.color); // Output: Green\",\n",
       "  'Create_a_child_class:': \"\\nclass Orange extends Fruit {\\n\\n\\xa0 \\xa0 constructor() {\\n\\xa0 \\xa0 \\xa0 \\xa0 super('Orange', 'Orange');\\n\\xa0 \\xa0 }\\n\\n\\xa0 \\xa0 throw() {\\n\\xa0 \\xa0 \\xa0 \\xa0 console.log('You threw the ' + this.name + '.');\\n\\xa0 \\xa0 }\\n\\n}\\n\\nlet orange = new Orange();\\norange.throw(); // Output: You threw the Orange.\\nconsole.log(orange.color); // Output: Orange\",\n",
       "  'Format_Dates': \"\\nconst date = new Date();\\nconst dateString = date.getDate() \\xa0+ '-' + (date.getMonth()+1) + '-' + date.getFullYear() + ' ' + date.getHours() + ':' + date.getMinutes();\\nconsole.log(dateString); // Output: 26-1-2022 16:50\\n\\ndocument.querySelector('#input-date').value = new Date().toISOString().substring(0, 10);\\n\\ndocument.querySelector('#input-datetime').value = (new Date(date.getTime() - date.getTimezoneOffset() * 60000).toISOString()).slice(0, -1).split('.')[0];\",\n",
       "  'Disable_Right_Click': \"\\ndocument.addEventListener('contextmenu', event => event.preventDefault());\",\n",
       "  'Generate_Unique_ID': '\\nconst uniqueId = Date.now().toString(36) + Math.random().toString(36).substr(2);\\nconsole.log(uniqueId);',\n",
       "  'Copy_Text_to_Clipboard': \"\\ndocument.querySelector('#input-text').select();\\ndocument.execCommand('copy');\\n\\nnavigator.clipboard.writeText(document.querySelector('#input-text').value);\",\n",
       "  'Text_to_Speech': \"\\nconst speech = new SpeechSynthesisUtterance();\\nspeech.lang = 'en-US';\\nspeech.text = 'Hello World!';\\nspeech.volume = 1;\\nspeech.rate = 1;\\nspeech.pitch = 1;\\nwindow.speechSynthesis.speak(speech);\",\n",
       "  'Replace_Part_of_a_String': \"\\nconst string = 'Hello, David!';\\nconst replacedString = string.replace('David', 'John');\\nconsole.log(replacedString) // Output: Hello, John!\\n\\nif (string.includes('David')) {\\n\\xa0 \\xa0 console.log('String contains David');\\n}\",\n",
       "  'JSON': \"\\nlet contacts = [\\n\\xa0 \\xa0 {\\n\\xa0 \\xa0 \\xa0 \\xa0 'name': 'David',\\n\\xa0 \\xa0 \\xa0 \\xa0 'surname': 'Adams'\\n\\xa0 \\xa0 },\\n\\xa0 \\xa0 {\\n\\xa0 \\xa0 \\xa0 \\xa0 'name': 'John',\\n\\xa0 \\xa0 \\xa0 \\xa0 'surname': 'Doe'\\n\\xa0 \\xa0 }\\n];\\nconsole.log(JSON.stringify(contacts));\",\n",
       "  'Countdown_Timer': \"\\nconst num = document.querySelector('#num');\\nsetInterval(() => num.innerHTML = parseInt(num.innerHTML) != 0 ? parseInt(num.innerHTML)-1 : 0, 1000);\",\n",
       "  'Scroll_to_Top_of_Page': '\\ndocument.body.scrollTop = document.documentElement.scrollTop = 0;',\n",
       "  'Mobile_Device_Detection': \"\\nconst isMobile = /iPhone|iPad|iPod|Android|Opera Mini|BlackBerry|IEMobile|WPDesktop|Windows Phone|webOS|/i.test(navigator.userAgent);\\nif (isMobile) {\\n\\xa0 \\xa0 console.log('Device is mobile');\\n}\",\n",
       "  'HTML_DOM_Manipulation': \"\\nconst element = document.querySelector('#element');\\nif (element.offsetParent === null) {\\n\\xa0 \\xa0 console.log('Element is hidden');\\n}\\n\\nelement.focus();\\n\\nelement.blur();\\n\\nelement.remove();\\n\\nelement.classList.add('foo');\\n\\nelement.classList.remove('foo');\\n\\nelement.classList.toggle('foo');\",\n",
       "  'Dark_Mode_Detection': \"\\nconst isDarkMode = window.matchMedia && window.matchMedia('(prefers-color-scheme: dark)').matches;\\nif (isDarkMode) {\\n\\xa0 \\xa0 console.log('Dark mode is enabled');\\n}\",\n",
       "  'LightMode_Detection': \"\\nconst isLightMode = window.matchMedia && window.matchMedia('(prefers-color-scheme: light)').matches;\\nif (isLightMode) {\\n\\xa0 \\xa0 console.log('Light mode is enabled');\\n}\"},\n",
       " 'Python': {'List_comprehensions': \"\\nmy_list = ['Multiple of 6' if i % 6 == 0\\nelse 'Multiple of 2' if i % 2 == 0\\nelse 'Multiple of 3' if i % 3 == 0\\nelse i for i in range(1, 20)]\\nprint(my_list)\",\n",
       "  'Merging_Two_Dictionaries': \"\\nmy_dict1 = {'a' : 1, 'b' : 2, 'c' : 3}\\nmy_dict2 = {'d' : 4, 'e' : 5, 'f' : 6}\\n\\n# Method 1\\nresult = { **my_dict1, **my_dict2}\\nprint(result)\\n\\n# Method 2\\nresult = my_dict1.copy()\\nresult.update(my_dict2)\\nprint(result)\\n\\n# Method 3\\nresult = {key: value for d in (my_dict1, my_dict2) for key, value in d.items()}\\nprint(result)\",\n",
       "  'File_Handling': \"\\n# Open a file\\nf = open('filename.txt')\\n\\n\\n# Read from a file\\nf = open('filename.txt', 'r')\\n\\n# To read the whole file\\nprint(f.read())\\n\\n# To read single line\\nprint(f.readline())\\n\\n\\n# Write to a file\\nf = open('filename.txt', 'w')\\nf.write('Writing into a file \\\\n')\\n\\n\\n# Closing a file\\nf.close()\",\n",
       "  'Calculating_Execution_Time': '\\nimport time\\n\\nstart_time = time.time()\\n\\n# printing all even numbers till 20\\nfor i in range(20):\\nif i % 2 == 0:\\nprint(i, end = \" \")\\n\\nend_time = time.time()\\ntime_taken = end_time - start_time\\nprint(\"\\\\nTime: \", time_taken)',\n",
       "  'Sorting_a_List_of_Dictionaries': '\\nperson = [\\n{\\n\\'name\\' : \\'alice\\',\\n\\'age\\' : 22,\\n\\'id\\' : 92345\\n},\\n{\\n\\'name\\' : \\'bob\\',\\n\\'age\\' : 24,\\n\\'id\\' : 52353\\n},\\n{\\n\\'name\\' : \\'tom\\',\\n\\'age\\' : 23,\\n\\'id\\' : 62257\\n}\\n]\\n\\n# Method 1\\nperson.sort(key=lambda item: item.get(\"id\"))\\nprint(person)\\n\\n# Method 2\\nperson = sorted(person, key=lambda item: item.get(\"id\"))\\nprint(person)',\n",
       "  'Finding_Highest_Frequency_Element': '\\nmy_list = [8,4,8,2,2,5,8,0,3,5,2,5,8,9,3,8]\\nprint(\"Most frequent item:\", max(set(my_list), key=my_list.count))',\n",
       "  'Error_Handling': '\\nnum1, num2 = 2,0\\ntry:\\nprint(num1 / num2)\\nexcept ZeroDivisionError:\\nprint(\"Exception! Division by Zero not permitted.\")\\nfinally:\\nprint(\"Finally block.\")',\n",
       "  'Finding_Substring_in_List_of_Strings': '\\nrecords = [\\n\"Vani Gupta, University of Hyderabad\",\\n\"Elon Musk, Tesla\",\\n\"Bill Gates, Microsoft\",\\n\"Steve Jobs, Apple\"\\n]\\n\\n# Method 1\\nname = \"Vani\"\\nfor record in records:\\nif record.find(name) >= 0:\\nprint(record)\\n\\n# Method 2\\nname = \"Musk\"\\nfor record in records:\\nif name in record:\\nprint(record)',\n",
       "  'String_Formatting': '\\nlanguage = \"Python\"\\n\\n# Method 1\\nprint(language + \" is my favourite programming language.\")\\n\\n# Method 2\\nprint(f\"I code in {language}\")\\n\\n# Method 3\\nprint(\"%s is very easy to learn.\" % (language))\\n\\n# Method 4\\nprint(\"I like the {} programming language.\".format(language))',\n",
       "  'Flattening_a_List': '\\nugly_list = [10,12,36,[41,59,63],[77],81,93]\\nflat = []\\nfor i in ugly_list:\\nif isinstance(i, list): flat.extend(i)\\nelse: flat.append(i)\\nprint(flat)',\n",
       "  'USING_F_STRINGS': \"\\n#Formatting strings with f string.\\nstr_val = 'books'\\nnum_val = 15\\nprint(f'{num_val} {str_val}') # 15 books\\nprint(f'{num_val % 2 = }') # 1\\nprint(f'{str_val!r}') # books\\n\\n#Dealing with floats\\nprice_val = 5.18362\\nprint(f'{price_val:.2f}') # 5.18\\n\\n#Formatting dates\\nfrom datetime import datetime;\\ndate_val = datetime.utcnow()\\nprint(f'{date_val=:%Y-%m-%d}') # date_val=2021-09-24\",\n",
       "  'STRING’S_SIZE_IN_BYTES': '\\nstr1 = \"hello\"\\nstr2 = \"😀\"\\n\\ndef str_size(s):\\n  return len(s.encode(\\'utf-8\\'))\\n\\nstr_size(str1)\\nstr_size(str2)',\n",
       "  'CHECKING_IF_A_FILE EXISTS': \"\\n#Checking if a file exists in two ways\\n#1- Using the OS module\\nimport os\\nexists = os.path.isfile('/path/to/file')\\n\\n#2- Use the pathlib module for a better performance\\nfrom pathlib import Path\\nconfig = Path('/path/to/file')\\nif config.is_file():\\n    pass\",\n",
       "  'PARSING_A_SPREADSHEET': '\\nimport csv\\ncsv_mapping_list = []\\nwith open(\"/path/to/data.csv\") as my_data:\\n    csv_reader = csv.reader(my_data, delimiter=\",\")\\n    line_count = 0\\n    for line in csv_reader:\\n        if line_count == 0:\\n            header = line\\n        else:\\n            row_dict = {key: value for key, value in zip(header, line)}\\n            csv_mapping_list.append(row_dict)\\n        line_count += 1',\n",
       "  'Get_Vowels': '\\ndef get_vowels(String):\\n    return [each for each in String if each in \"aeiou\"]\\nget_vowels(\"animal\") # [a, i, a]\\nget_vowels(\"sky\") # []\\nget_vowels(\"football\") # [o, o, a]',\n",
       "  'Check_duplicates': '\\ndef check_duplicate(lst):\\n    return len(lst) != len(set(lst))\\ncheck_duplicate([1,2,3,4,5,4,6]) # True\\ncheck_duplicate([1,2,3]) # False\\ncheck_duplicate([1,2,3,4,9]) # False',\n",
       "  'Filtering_False_Values': '\\ndef Filtering(lst):\\n    return list(filter(None,lst))\\nlst=[None,1,3,0,\"\",5,7]\\nFiltering(lst) #[1, 3, 5, 7]',\n",
       "  'Memory_Usage': '\\nimport sys\\nvar1=\"Python\"\\nvar2=100\\nvar3=True\\nprint(sys.getsizeof(var1)) #55\\nprint(sys.getsizeof(var2)) #28\\nprint(sys.getsizeof(var3)) #28',\n",
       "  'Shuffle_a_list': '\\nfrom random import shuffle\\nmy_list1=[1,2,3,4,5,6]\\nmy_list2=[\"A\",\"B\",\"C\",\"D\"]\\nshuffle(my_list1) # [4, 6, 1, 3, 2, 5]\\nshuffle(my_list2) # [\\'A\\', \\'D\\', \\'B\\', \\'C\\']',\n",
       "  'Chunk': '\\ndef chunk(my_list, size):\\n    return [my_list[i:i+size] for i in range(0,len(my_list), size)]\\nmy_list = [1, 2, 3, 4, 5, 6]\\nchunk(my_list, 2) # [[1, 2], [3, 4], [5, 6]]'}}"
      ]
     },
     "execution_count": 12,
     "metadata": {},
     "output_type": "execute_result"
    }
   ],
   "source": [
    "dict_main"
   ]
  },
  {
   "cell_type": "code",
   "execution_count": 13,
   "id": "f4876d70",
   "metadata": {},
   "outputs": [
    {
     "data": {
      "text/plain": [
       "dict_keys(['Deploy_Django_Heroku', 'Deploy_ReactApp_Heroku', 'Deploy_ReactApp_AWS', 'Deploy_Django_AWS'])"
      ]
     },
     "execution_count": 13,
     "metadata": {},
     "output_type": "execute_result"
    }
   ],
   "source": [
    "dict_main['cloud'].keys()"
   ]
  },
  {
   "cell_type": "code",
   "execution_count": 14,
   "id": "bf962fe7",
   "metadata": {},
   "outputs": [
    {
     "data": {
      "text/plain": [
       "dict_keys(['List_comprehensions', 'Merging_Two_Dictionaries', 'File_Handling', 'Calculating_Execution_Time', 'Sorting_a_List_of_Dictionaries', 'Finding_Highest_Frequency_Element', 'Error_Handling', 'Finding_Substring_in_List_of_Strings', 'String_Formatting', 'Flattening_a_List', 'USING_F_STRINGS', 'STRING’S_SIZE_IN_BYTES', 'CHECKING_IF_A_FILE EXISTS', 'PARSING_A_SPREADSHEET', 'Get_Vowels', 'Check_duplicates', 'Filtering_False_Values', 'Memory_Usage', 'Shuffle_a_list', 'Chunk'])"
      ]
     },
     "execution_count": 14,
     "metadata": {},
     "output_type": "execute_result"
    }
   ],
   "source": [
    "dict_main['Python'].keys()"
   ]
  },
  {
   "cell_type": "code",
   "execution_count": 9,
   "id": "7cc0e6f8",
   "metadata": {},
   "outputs": [
    {
     "name": "stdout",
     "output_type": "stream",
     "text": [
      "C:/Users/vijay/OneDrive/Desktop/IdeaBox_Content/cloud.txt\n",
      "C:/Users/vijay/OneDrive/Desktop/IdeaBox_Content/Django.txt\n",
      "C:/Users/vijay/OneDrive/Desktop/IdeaBox_Content/Instructions_CrossPlatform.txt\n",
      "C:/Users/vijay/OneDrive/Desktop/IdeaBox_Content/JavaScript.txt\n",
      "C:/Users/vijay/OneDrive/Desktop/IdeaBox_Content/Python.txt\n"
     ]
    }
   ],
   "source": [
    "for i in list_files:\n",
    "    print(\"C:/Users/vijay/OneDrive/Desktop/IdeaBox_Content/{}.txt\".format(i.strip()))"
   ]
  },
  {
   "cell_type": "code",
   "execution_count": null,
   "id": "2b65f80b",
   "metadata": {},
   "outputs": [],
   "source": []
  },
  {
   "cell_type": "code",
   "execution_count": 24,
   "id": "b8f686ff",
   "metadata": {},
   "outputs": [
    {
     "name": "stdout",
     "output_type": "stream",
     "text": [
      "Python \n"
     ]
    },
    {
     "ename": "FileNotFoundError",
     "evalue": "[Errno 2] No such file or directory: 'new/IdeaBox_Content.json'",
     "output_type": "error",
     "traceback": [
      "\u001b[1;31m---------------------------------------------------------------------------\u001b[0m",
      "\u001b[1;31mFileNotFoundError\u001b[0m                         Traceback (most recent call last)",
      "\u001b[1;32m~\\AppData\\Local\\Temp/ipykernel_3020/2454180195.py\u001b[0m in \u001b[0;36m<module>\u001b[1;34m\u001b[0m\n\u001b[0;32m     27\u001b[0m \u001b[1;32mimport\u001b[0m \u001b[0mjson\u001b[0m\u001b[1;33m\u001b[0m\u001b[1;33m\u001b[0m\u001b[0m\n\u001b[0;32m     28\u001b[0m \u001b[1;32mimport\u001b[0m \u001b[0mre\u001b[0m\u001b[1;33m\u001b[0m\u001b[1;33m\u001b[0m\u001b[0m\n\u001b[1;32m---> 29\u001b[1;33m \u001b[1;32mwith\u001b[0m \u001b[0mopen\u001b[0m\u001b[1;33m(\u001b[0m\u001b[1;34m'new/IdeaBox_Content.json'\u001b[0m\u001b[1;33m,\u001b[0m \u001b[1;34m'w+'\u001b[0m\u001b[1;33m)\u001b[0m \u001b[1;32mas\u001b[0m \u001b[0mf\u001b[0m\u001b[1;33m:\u001b[0m\u001b[1;33m\u001b[0m\u001b[1;33m\u001b[0m\u001b[0m\n\u001b[0m\u001b[0;32m     30\u001b[0m     \u001b[0mjson\u001b[0m\u001b[1;33m.\u001b[0m\u001b[0mdump\u001b[0m\u001b[1;33m(\u001b[0m\u001b[0mdict_main\u001b[0m\u001b[1;33m,\u001b[0m \u001b[0mf\u001b[0m\u001b[1;33m,\u001b[0m \u001b[0mindent\u001b[0m\u001b[1;33m=\u001b[0m\u001b[1;36m2\u001b[0m\u001b[1;33m)\u001b[0m\u001b[1;33m\u001b[0m\u001b[1;33m\u001b[0m\u001b[0m\n\u001b[0;32m     31\u001b[0m     \u001b[0mprint\u001b[0m\u001b[1;33m(\u001b[0m\u001b[1;34m\"New json file is created from data.json file\"\u001b[0m\u001b[1;33m)\u001b[0m\u001b[1;33m\u001b[0m\u001b[1;33m\u001b[0m\u001b[0m\n",
      "\u001b[1;31mFileNotFoundError\u001b[0m: [Errno 2] No such file or directory: 'new/IdeaBox_Content.json'"
     ]
    }
   ],
   "source": [
    "def functions_return_dict(x,path):\n",
    "    #path = \"C:/Users/vijay/OneDrive/Desktop/IdeaBox_Content/{}.txt\".format(x)\n",
    "    with open(path,encoding=\"utf8\") as f:\n",
    "        data = f.readlines()\n",
    "    data = \"\".join(data)\n",
    "    L = re.split('---+',data)\n",
    "    for i in range(len(L)):\n",
    "        L[i] = L[i].strip()\n",
    "    returned_dict = {}\n",
    "    for i in L:\n",
    "        try:\n",
    "            a,b = i.split('\\n',1)\n",
    "            if a!='':\n",
    "                returned_dict[a] = b\n",
    "        except:\n",
    "            print(x,i)\n",
    "    return returned_dict\n",
    "    \n",
    "\n",
    "dict_main = {'cloud':[],'Django':[],'Instructions_CrossPlatform':[],'JavaScript':[],'Python':[]}\n",
    "list_files = list(dict_main.keys())\n",
    "for i in list_files:\n",
    "    path = \"C:/Users/vijay/OneDrive/Desktop/IdeaBox_Content/{}.txt\".format(i.strip())\n",
    "    output_dict = functions_return_dict(i,path)\n",
    "    dict_main[i] = output_dict\n",
    "    \n",
    "import json\n",
    "import re\n",
    "with open('new/IdeaBox_Content.json', 'w') as f:\n",
    "    json.dump(dict_main, f, indent=2)\n",
    "    print(\"New json file is created from data.json file\")"
   ]
  },
  {
   "cell_type": "code",
   "execution_count": 15,
   "id": "70254672",
   "metadata": {},
   "outputs": [
    {
     "data": {
      "text/plain": [
       "{'cloud': {'Deploy_Django_Heroku': \"\\n\\nStep 1: Setup your Django Project (Local Changes)\\nLet’s create a simple application in Django for showing the deployment. \\n\\nInitialize your Django Project \\ndjango-admin startproject deploy_on_pythonanywhere\\n\\nOpen project in your editor and under settings.py make:\\nALLOWED_HOSTS = ['*']\\nCreate requirements.txt file using the command\\npip3 freeze > requirements.txt\\n\\nFile structure of our project looks like this:\\ndeploy_on_pythonanywhere\\n├── db.sqlite3\\n├── deploy_on_pythonanywhere\\n│ \\xa0 ├── asgi.py\\n│ \\xa0 ├── __init__.py\\n│ \\xa0 ├── __pycache__\\n│ \\xa0 │ \\xa0 ├── __init__.cpython-38.pyc\\n│ \\xa0 │ \\xa0 ├── settings.cpython-38.pyc\\n│ \\xa0 │ \\xa0 ├── urls.cpython-38.pyc\\n│ \\xa0 │ \\xa0 └── wsgi.cpython-38.pyc\\n│ \\xa0 ├── settings.py\\n│ \\xa0 ├── urls.py\\n│ \\xa0 └── wsgi.py\\n├── manage.py\\n└── requirements.txt\\n\\nLet’s Start our Django Server\\ncd deploy_on_pythonanywhere\\npython3 manage.py runserver\\n\\n\\nYahooooo, your server is running on localhost But wait, wait… that’s not over, let’s make it live for the world\\n\\nStep 2: Upload Project to GitHub\\nFollow this link to push the project on github – How to Upload a Project on Github?\\nStep 3: Deploy Project on pythonanywhere\\nCreate an account on pythonanywhere – \\xa0Click Here\\nAfter Register, you can see the page like this\\n\\n\\nNow click on Console then select Bash you’ll see like this\\n\\n\\nRun following commands on bash:\\nClone GitHub repo\\ngit clone https://github.com/Prakhar-Mangal/deploy_on_pythonanywhere.git\\nNow create and setup environment variables\\npython3 -m venv env #create virtual environment\\nsource env/bin/activate #activate virtual environment\\ncd deploy_on_pythonanywhere #navigate inside your project \\npip install -r requirements.txt #installing dependencies using requirements.txt\\nNow copy the path of your directories which you installed on bash\\nType command on bash\\ncd\\nls # get list of directories\\npwd #copy the path for future use\\n\\nHere it looks like:\\n\\n\\nHurree, we set up our project successfully : ) But wait wait, follow the final process and we’re ready to go\\n\\nNow click on Web then select Add a new web app\\n\\n\\nClick on next and follow the procedure\\nselect Django as the framework\\n\\n\\nSelect python3.8 (latest) and click on next till last.\\n\\xa0\\n\\n\\nNow under the Web section open the WSGI configuration file\\n\\n\\nEdit WSGI configuration file on line no. 12 and 17 remove the word mysite with your project name which you cloned from GitHub, in my case it is deploy_on_pythonanywhere\\n\\n\\nNow it looks like this and then click on save:\\n\\n\\nSelect Virtualenv section under Web:\\n\\n\\nEnter the path of Virtualenv as we created using bash (refer above pwd command for path)\\n\\n\\nClick on Reload under the Web section and visit the link\\n\\nOK, so it's finally done.\",\n",
       "  'Deploy_ReactApp_Heroku': \"\\n\\nRequirements:\\nNode / NPM\\u200a—\\u200aClick the link and download the installer\\nGit\\u200a—\\u200aClick the link and download the installer\\nHeroku CLI\\u200a—\\u200aClick the link and download the installer\\nSteps:\\nSign up for Heroku\\nSetup our React App for deployment\\nCreate Heroku git repository\\nStep 1\\u200a—\\u200aSign up For Heroku\\nVisit Heroku for free hosting\\nThis step explains itself, we need to sign up for Heroku before we can do any deployment. So head over to Heroku and sign up. Once you signed up make sure you head over to your email and confirm your account.\\n\\nStep 2\\u200a—\\u200aSetup React App\\npackage.json • Before\\n\\nOpen up your React app (I’m using create-react-app) and open up your package.json file. If your using create-react-app we’re going to add a new object called engines. Inside of our engines object, we need to specify the versions for npm and node. To do this open up your terminal and type in:\\n\\nnpm -v\\nPress enter\\n\\nnode -v\\nPress enter\\n\\nYour versions may be different than mine, but that's fine. Once you specified your engine versions save your file.\\n\\nStep 3\\u200a—\\u200aCreate Heroku Git Repository\\nWith your terminal still open navigate to your React app folder and change directory into it. Now we need to connect our project to Heroku. If you haven’t already installed the Heroku CLI. To make sure it’s installed correctly run this command:\\n\\nheroku --version\\nYou should see your Heroku CLI version. Once that is installed we need to setup up Heroku git repository by running these commands:\\n\\nheroku login (Enter your Heroku credentials)\\ngit init\\ngit add .\\ngit commit -m “initial commit”\\nheroku create (You should see two links after running this command. Copy the second one)\\ngit remote add heroku PASTE THE LINK YOU JUST COPIED\\ngit push heroku master\\nOnce you run the last command Heroku will start to run some tests on your app. If everything goes right you should see a successful deploy message. Now you’re able to navigate to your app by running:\\n\\nheroku open\\nAnytime you make changes to your app and want to re-deploy the only commands you need to run are:\\n\\ngit add .\\ngit commit -m “any message goes here”\\ngit push heroku master\\nEasier Method \\nNow that I made you go through all of that process, there is an easier method if you use Github. All you have to do is log into your Heroku account; click “new” then “create new app” and give your app a name. After clicking create you should be greeted with a dashboard for the app you just created. Navigate to the deploy tab and sync your Github account with Heroku. After syncing your Github account and can search for the repository you want to sync with Heroku by scrolling down to “App connected to Github” section and searching for the repository you want to sync. You can also set up automatic deployment, so every time you push to the master branch Heroku will rebuild your app for you.\",\n",
       "  'Deploy_ReactApp_AWS': '\\nhttps://medium.com/@mdjahedhossain/how-to-deploy-your-react-app-with-aws-f2c6bda91cce#:~:text=%20How%20to%20deploy%20your%20React%20App%20with,code%20push%20to%20your%20repository%20will...%20More%20',\n",
       "  'Deploy_Django_AWS': '\\nhttps://dev.to/rmiyazaki6499/deploying-a-production-ready-django-app-on-aws-1pk3#:~:text=%20Deploying%20a%20Production-ready%20Django%20app%20on%20AWS,of%20the%20core%20products%2Fservices%20AWS%20provides...%20More%20'},\n",
       " 'Django': {'Basic_Backend_code': '\\nfrom django.contrib import admin\\nfrom django.urls import path, include\\n\\nurlpatterns = [\\n\\tpath(\\'admin/\\', admin.site.urls),\\n\\t# Enter the app name in following syntax for this to work\\n\\tpath(\\'\\', include(\"projectApp.urls\")),',\n",
       "  'Django_Installation': '\\nstep:1\\nInstall pip- Open command prompt and enter following command-\\npython -m pip install -U pip\\n\\nstep:2\\nInstall virtual environment- Enter following command in cmd-\\npip install virtualenv\\nvirtualenv env_site\\n\\nstep:3\\nChange directory to env_site by this command-\\ncd env_site/Scripts/activate\\n\\nstep:4\\nInstall Django- Install django by giving following command-\\npip install django\\n\\nstep:5\\nChange directory to your project path where you want to create a project\\ndjango-admin startproject Project_Name\\ncd Project_Name\\npython manage.py runserver',\n",
       "  'Running_Django_DownloadedProject': '\\nstep:1\\nUnzip the downloaded folder\\n\\nstep:2\\nInstall pip- Open command prompt and enter following command-\\npython -m pip install -U pip\\n\\nstep:3\\nInstall virtual environment- Enter following command in cmd-\\npip install virtualenv\\nvirtualenv env_site\\n\\nstep:4\\nChange directory to env_site by this command-\\ncd env_site/Scripts/activate\\n\\nstep:5\\nInstall Django- Install django by giving following command-\\npip install django\\n\\nChange directory to project path where the downloaded folder located\\ncd Project_Name\\npython manage.py runserver\\n\\nstep:6\\ncopy paste the ip address in the browser you can check the project ui their.',\n",
       "  'Creating_App_Django': '\\nstep:1\\npython manage.py startapp projectApp\\n\\nstep:2\\nShould configure it the settings.py file\\n# Application definition\\n\\nINSTALLED_APPS = [\\n\\t\\'django.contrib.admin\\',\\n\\t\\'django.contrib.auth\\',\\n\\t\\'django.contrib.contenttypes\\',\\n\\t\\'django.contrib.sessions\\',\\n\\t\\'django.contrib.messages\\',\\n\\t\\'django.contrib.staticfiles\\',\\n\\t\\'projectApp\\'\\n]\\n\\nstep3:\\nlist of URL patterns, you need to specify the app name for including your app URLs. Here is the code for it\\nyou need to configure routings paths in urls.py file\\n\\nfrom django.contrib import admin\\nfrom django.urls import path, include\\n\\nurlpatterns = [\\n\\tpath(\\'admin/\\', admin.site.urls),\\n\\t# Enter the app name in following\\n\\t# syntax for this to work\\n\\tpath(\\'\\', include(\"projectApp.urls\")),\\n]',\n",
       "  'Django_Forms': '\\nSyntax:\\n\\nfrom django import forms\\n\\xa0 \\xa0 \\xa0 \\xa0 \\nclass FormName(forms.Form):\\n\\xa0 \\xa0 \\xa0 \\xa0 \\xa0# each field would be mapped as an input field in HTML\\n\\xa0 \\xa0 \\xa0 \\xa0 field_name = forms.Field(**options)\\n\\nSample code:\\n\\n# import the standard Django Forms\\n# from built-in library\\nfrom django import forms\\n\\n# creating a form\\nclass InputForm(forms.Form):\\n\\n\\tfirst_name = forms.CharField(max_length = 200)\\n\\tlast_name = forms.CharField(max_length = 200)\\n\\troll_number = forms.IntegerField(\\n\\t\\t\\t\\t\\thelp_text = \"Enter 6 digit roll number\"\\n\\t\\t\\t\\t\\t)\\n\\tpassword = forms.CharField(widget = forms.PasswordInput())',\n",
       "  'Render_Django_Forms': '\\nPython backend code:\\n\\nfrom django.shortcuts import render\\nfrom .forms import InputForm\\n\\n# Create your views here.\\ndef home_view(request):\\n\\tcontext ={}\\n\\tcontext[\\'form\\']= InputForm()\\n\\treturn render(request, \"home.html\", context)\\n\\nFrotend html code:\\n\\n<form action = \"\" method = \"post\">\\n\\t{% csrf_token %}\\n\\t{{form }}\\n\\t<input type=\"submit\" value=Submit\">\\n</form>',\n",
       "  'Render_HTML_Forms_Get': '\\nFrotend html code:\\n\\n<form action = \"\" method = \"POST\">\\n\\t{% csrf_token %}\\n\\t<label for=\"your_name\">Your name: </label>\\n\\t<input id=\"your_name\" type=\"text\" name=\"your_name\">\\n\\t<input type=\"submit\" value=\"OK\">\\n</form>\\n\\nBackend python code:\\n\\nfrom django.shortcuts import render\\n\\n# Create your views here.\\ndef home_view(request):\\n\\tprint(request.POST)\\n\\treturn render(request, \"home.html\")',\n",
       "  'SendData_From_BackendToFrontend': '\\n# import Http Response from django\\nfrom django.shortcuts import render\\n\\n# create a function\\ndef geeks_view(request):\\n\\t# create a dictionary to pass\\n\\t# data to the template\\n\\tcontext ={\\n\\t\\t\"data\":\"Gfg is the best\",\\n\\t\\t\"list\":[1, 2, 3, 4, 5, 6, 7, 8, 9, 10]\\n\\t}\\n\\t# return response with template and context\\n\\treturn render(request, \"geeks.html\", context)',\n",
       "  'HttpResponse ': '\\n# import Http Response from django\\nfrom django.http import HttpResponse\\n# get datetime\\nimport datetime\\n\\n# create a function\\ndef geeks_view(request):\\n\\t# fetch date and time\\n\\tnow = datetime.datetime.now()\\n\\t# convert to string\\n\\thtml = \"Time is {}\".format(now)\\n\\t# return response\\n\\treturn HttpResponse(html)',\n",
       "  'Python_JSON': '\\nimport json\\n\\n# JSON string\\nemployee = \\'{\"id\":\"09\", \"name\": \"Nitin\", \"department\":\"Finance\"}\\'\\n\\n# Convert string to Python dict\\nemployee_dict = json.loads(employee)\\nprint(employee_dict)\\nprint(type(employee_dict))\\nprint(\"\\\\n\")\\n\\n# Convert Python dict to JSON\\njson_object = json.dumps(employee_dict, indent=4)\\nprint(json_object)\\nprint(type(json_object))'},\n",
       " 'Instructions_CrossPlatform': {'Downloaded_Djnago_Project': '\\nYou can run the downloaded django project from cross platform in your local machine. Follow the guided steps\\n\\nstep:1\\nUnzip the downloaded folder\\n\\nstep:2\\nInstall pip- Open command prompt and enter following command-\\npython -m pip install -U pip\\n\\nstep:3\\nInstall virtual environment- Enter following command in cmd-\\npip install virtualenv\\nvirtualenv env_site\\n\\nstep:4\\nChange directory to env_site by this command-\\ncd env_site/Scripts/activate\\n\\nstep:5\\nInstall Django- Install django by giving following command-\\npip install django\\n\\nChange directory to project path where the downloaded folder located\\ncd Project_Name\\npython manage.py runserver\\n\\nstep:6\\ncopy paste the ip address in the browser you can check the project ui their.',\n",
       "  'Downloaded_ReactsJS_Project': '\\ncd downloaded_folder_name\\nnpm start',\n",
       "  'CrossPlatform_Django_Instructions': '\\n* Dont change or rename the main function name cross in backend python code . Write logic inside it. if you u want to add modular codes insides it you can do no issues.\\n* Dont change cross.html file name in the return function of the backend python code.\\n* If you want to add External Style Sheet for css coding Replace the below header code in the html page, otherwise css,js changes are not reflected. For Inline Style and Embedded Style Sheet no need of it, code will be reflected in the server.\\n<head>\\n\\t<link rel=\"stylesheet\" href=\"{% static \\'cross.css\\' %}\">\\n\\t<link rel=\"stylesheet\" href=\"{% static \\'cross.js\\' %}\">\\n</head>'},\n",
       " 'JavaScript': {'GET_Request': \"\\nfetch('https://example.com/data.json').then(response => response.json()).then(data => console.log(data));\",\n",
       "  'POST_Request': \"\\nfetch('https://example.com/authenticate', {\\n\\xa0 \\xa0 method: 'POST',\\n\\xa0 \\xa0 headers: {\\n\\xa0 \\xa0 \\xa0 \\xa0 'Content-Type': 'application/json',\\n\\xa0 \\xa0 },\\n\\xa0 \\xa0 body: JSON.stringify({ username: 'David', password: '12345' })\\n}).then(response => response.json()).then(data => {\\n\\xa0 \\xa0 console.log(data);\\n}).catch(error => {\\n\\xa0 \\xa0 console.error('Error:', error);\\n});\",\n",
       "  'FormData interface': \"\\nconst formData = new FormData();\\nformData.append('username', 'David');\\nformData.append('password', '12345');\\nfetch('https://example.com/authenticate', {\\n\\xa0 \\xa0 method: 'POST',\\n\\xa0 \\xa0 body: formData\\n}).then(response => response.json()).then(data => {\\n\\xa0 \\xa0 console.log(data);\\n}).catch(error => {\\n\\xa0 \\xa0 console.error('Error:', error);\\n});\",\n",
       "  'Input_Validation': '\\nif (/\\\\S+@\\\\S+\\\\.\\\\S+/.test(\\'david@codeshack.io\\')) {\\n\\xa0 \\xa0 console.log(\\'Email is valid!\\');\\n} else {\\n\\xa0 \\xa0 console.log(\\'Email is invalid!\\');\\n}\\n\\nconst username = \"david123\";\\nif (username.length > 4 && username.length < 16) {\\n\\xa0 \\xa0 console.log(\\'Username is valid!\\');\\n} else {\\n\\xa0 \\xa0 console.log(\\'Username must be between 5 and 15 characters long!\\');\\n}\\n\\nif (/^[a-zA-Z0-9]+$/.test(username)) {\\n\\xa0 \\xa0 console.log(\\'Username is valid!\\');\\n} else {\\n\\xa0 \\xa0 console.log(\\'Username must contain only letters and numerals!\\');\\n}\\n\\nconst num = 12345.12;\\nif (!isNaN(parseFloat(num)) && isFinite(num)) {\\n\\xa0 \\xa0 console.log(\\'Variable is a number!\\');\\n} else {\\n\\xa0 \\xa0 console.log(\\'Variable is not a number!\\');\\n}',\n",
       "  'Storing_Data_in_the_Browser': \"\\nlocalStorage.setItem('username', 'David');\\n\\nconsole.log(localStorage.getItem('username'));\\n\\nif (localStorage.getItem('username')) {\\n\\xa0 \\xa0 console.log('Item exists!');\\n}\\n\\nlocalStorage.removeItem('username');\\n\\n#Remove all items\\nlocalStorage.clear();\",\n",
       "  'Data_Attributes': '\\nHTML\\n\\n<a href=\"#\" data-name=\"David\" data-surname=\"Adams\" data-unique-id=\"30\" data-btn>Click me!</a>\\n\\nJS\\n\\nconst btn = document.querySelector(\\'a[data-btn]\\');\\nbtn.onclick = event => {\\n\\xa0 \\xa0 event.preventDefault();\\n\\xa0 \\xa0 // Output data attributes\\n\\xa0 \\xa0 console.log(btn.dataset.name); // David\\n\\xa0 \\xa0 console.log(btn.dataset.surname); // Adams\\n\\xa0 \\xa0 console.log(btn.dataset.uniqueId); // 30\\n};',\n",
       "  'Inject_HTML': '\\nInject After:\\n\\nHTML\\n<a id=\"home-btn\" href=\"home.html\">Home</a>\\n\\nJS\\ndocument.querySelector(\\'#home-btn\\').insertAdjacentHTML(\\'afterend\\', \\'<a href=\"about.html\">About</a>\\');\\n\\nInject Before:\\n\\nHTML\\n<section id=\"section-2\">\\n\\xa0 \\xa0 <h2>Title 2</h2>\\n\\xa0 \\xa0 <p>Description 2</p>\\n</section>\\n\\nJS\\ndocument.querySelector(\\'#section-2\\').insertAdjacentHTML(\\'beforebegin\\', `\\n\\xa0 \\xa0 <section>\\n\\xa0 \\xa0 \\xa0 \\xa0 <h2>Title 1</h2>\\n\\xa0 \\xa0 \\xa0 \\xa0 <p>Description 1</p>\\n\\xa0 \\xa0 </section>\\n`);',\n",
       "  'Append_and_Prepend HTML': '\\nHTML\\n<ul id=\"list\">\\n\\xa0 \\xa0 <li>Item 2</li>\\n\\xa0 \\xa0 <li>Item 3</li>\\n\\xa0 \\xa0 <li>Item 4</li>\\n</ul>\\n\\nJS\\ndocument.querySelector(\\'#list\\').insertAdjacentHTML(\\'beforeend\\', \\'<li>Item 5</li>\\');\\n\\nPrepend an item to a list element:\\ndocument.querySelector(\\'#list\\').insertAdjacentHTML(\\'afterbegin\\', \\'<li>Item 1</li>\\');',\n",
       "  'URL_Manipulation': '\\nGet Params:\\nconst url = new URL(\\'https://example.com/index.php?name=David&surname=Adams\\');\\nconsole.log(url.searchParams.get(\\'name\\')); // David \\nconsole.log(url.searchParams.get(\\'surname\\')); // Adams\\n\\nRedirect URL:\\nlocation.href = \"https://codeshack.io\";\\n\\nRedirect in 10 seconds:\\nsetTimeout(() => location.href = \"https://codeshack.io\", 10000); \\n\\nGet Hash Value:\\n// URL: http://example.com/home#MyProfile\\nconsole.log(window.location.hash.substr(1)); // Output: MyProfile',\n",
       "  'Arrays': \"\\nappend an item to an array:\\nconst fruits = ['Apple', 'Orange', 'Pineapple'];\\n// Add to the end of the array\\nfruits.push('Strawberry');\\n\\nAppend multiple items:\\nfruits.push('Pear', 'Blueberry');\\n\\nPrepend items to an array:\\nfruits.unshift('Blueberry', 'Kiwi');\\n\\nRemove Item From Array:\\nfruits.shift();\\nfruits.pop();\",\n",
       "  'Array_Validation': \"\\nif (fruits.includes('Pear')) {\\n\\xa0 \\xa0 console.log('Fruit array contains Pear');\\n}\",\n",
       "  'Loop Array': \"\\nfruits.forEach(item => console.log(item));\\nlet fruit = fruits[Math.floor(Math.random()*fruits.length)];\\nconst newFruits = fruits.map(item => item + ' is a fruit.');\",\n",
       "  'Reverse_Array': '\\nconst reversedFruits = fruits.reverse();',\n",
       "  'Create_Class': \"\\n\\nclass Fruit {\\n\\n\\xa0 \\xa0 constructor(name, color) {\\n\\xa0 \\xa0 \\xa0 \\xa0 this._name = name;\\n\\xa0 \\xa0 \\xa0 \\xa0 this._color = color;\\n\\xa0 \\xa0 }\\n\\n\\xa0 \\xa0 eat() {\\n\\xa0 \\xa0 \\xa0 \\xa0 console.log('You ate the ' + this.name + '.');\\n\\xa0 \\xa0 }\\n\\n\\xa0 \\xa0 get name() {\\n\\xa0 \\xa0 \\xa0 \\xa0 return this._name;\\n\\xa0 \\xa0 }\\n\\n\\xa0 \\xa0 set name(name) {\\n\\xa0 \\xa0 \\xa0 \\xa0 this._name = name;\\n\\xa0 \\xa0 }\\n\\n\\xa0 \\xa0 get color() {\\n\\xa0 \\xa0 \\xa0 \\xa0 return this._color;\\n\\xa0 \\xa0 }\\n\\n\\xa0 \\xa0 set color(color) {\\n\\xa0 \\xa0 \\xa0 \\xa0 this._color = color;\\n\\xa0 \\xa0 } \\xa0 \\n\\n}\\n\\n\\nlet apple = new Fruit('Apple', 'Green');\\napple.eat(); // Output: You ate the Apple.\\nconsole.log(apple.color); // Output: Green\",\n",
       "  'Create_a_child_class:': \"\\nclass Orange extends Fruit {\\n\\n\\xa0 \\xa0 constructor() {\\n\\xa0 \\xa0 \\xa0 \\xa0 super('Orange', 'Orange');\\n\\xa0 \\xa0 }\\n\\n\\xa0 \\xa0 throw() {\\n\\xa0 \\xa0 \\xa0 \\xa0 console.log('You threw the ' + this.name + '.');\\n\\xa0 \\xa0 }\\n\\n}\\n\\nlet orange = new Orange();\\norange.throw(); // Output: You threw the Orange.\\nconsole.log(orange.color); // Output: Orange\",\n",
       "  'Format_Dates': \"\\nconst date = new Date();\\nconst dateString = date.getDate() \\xa0+ '-' + (date.getMonth()+1) + '-' + date.getFullYear() + ' ' + date.getHours() + ':' + date.getMinutes();\\nconsole.log(dateString); // Output: 26-1-2022 16:50\\n\\ndocument.querySelector('#input-date').value = new Date().toISOString().substring(0, 10);\\n\\ndocument.querySelector('#input-datetime').value = (new Date(date.getTime() - date.getTimezoneOffset() * 60000).toISOString()).slice(0, -1).split('.')[0];\",\n",
       "  'Disable_Right_Click': \"\\ndocument.addEventListener('contextmenu', event => event.preventDefault());\",\n",
       "  'Generate_Unique_ID': '\\nconst uniqueId = Date.now().toString(36) + Math.random().toString(36).substr(2);\\nconsole.log(uniqueId);',\n",
       "  'Copy_Text_to_Clipboard': \"\\ndocument.querySelector('#input-text').select();\\ndocument.execCommand('copy');\\n\\nnavigator.clipboard.writeText(document.querySelector('#input-text').value);\",\n",
       "  'Text_to_Speech': \"\\nconst speech = new SpeechSynthesisUtterance();\\nspeech.lang = 'en-US';\\nspeech.text = 'Hello World!';\\nspeech.volume = 1;\\nspeech.rate = 1;\\nspeech.pitch = 1;\\nwindow.speechSynthesis.speak(speech);\",\n",
       "  'Replace_Part_of_a_String': \"\\nconst string = 'Hello, David!';\\nconst replacedString = string.replace('David', 'John');\\nconsole.log(replacedString) // Output: Hello, John!\\n\\nif (string.includes('David')) {\\n\\xa0 \\xa0 console.log('String contains David');\\n}\",\n",
       "  'JSON': \"\\nlet contacts = [\\n\\xa0 \\xa0 {\\n\\xa0 \\xa0 \\xa0 \\xa0 'name': 'David',\\n\\xa0 \\xa0 \\xa0 \\xa0 'surname': 'Adams'\\n\\xa0 \\xa0 },\\n\\xa0 \\xa0 {\\n\\xa0 \\xa0 \\xa0 \\xa0 'name': 'John',\\n\\xa0 \\xa0 \\xa0 \\xa0 'surname': 'Doe'\\n\\xa0 \\xa0 }\\n];\\nconsole.log(JSON.stringify(contacts));\",\n",
       "  'Countdown_Timer': \"\\nconst num = document.querySelector('#num');\\nsetInterval(() => num.innerHTML = parseInt(num.innerHTML) != 0 ? parseInt(num.innerHTML)-1 : 0, 1000);\",\n",
       "  'Scroll_to_Top_of_Page': '\\ndocument.body.scrollTop = document.documentElement.scrollTop = 0;',\n",
       "  'Mobile_Device_Detection': \"\\nconst isMobile = /iPhone|iPad|iPod|Android|Opera Mini|BlackBerry|IEMobile|WPDesktop|Windows Phone|webOS|/i.test(navigator.userAgent);\\nif (isMobile) {\\n\\xa0 \\xa0 console.log('Device is mobile');\\n}\",\n",
       "  'HTML_DOM_Manipulation': \"\\nconst element = document.querySelector('#element');\\nif (element.offsetParent === null) {\\n\\xa0 \\xa0 console.log('Element is hidden');\\n}\\n\\nelement.focus();\\n\\nelement.blur();\\n\\nelement.remove();\\n\\nelement.classList.add('foo');\\n\\nelement.classList.remove('foo');\\n\\nelement.classList.toggle('foo');\",\n",
       "  'Dark_Mode_Detection': \"\\nconst isDarkMode = window.matchMedia && window.matchMedia('(prefers-color-scheme: dark)').matches;\\nif (isDarkMode) {\\n\\xa0 \\xa0 console.log('Dark mode is enabled');\\n}\",\n",
       "  'LightMode_Detection': \"\\nconst isLightMode = window.matchMedia && window.matchMedia('(prefers-color-scheme: light)').matches;\\nif (isLightMode) {\\n\\xa0 \\xa0 console.log('Light mode is enabled');\\n}\"},\n",
       " 'Python': {'List_comprehensions': \"\\nmy_list = ['Multiple of 6' if i % 6 == 0\\nelse 'Multiple of 2' if i % 2 == 0\\nelse 'Multiple of 3' if i % 3 == 0\\nelse i for i in range(1, 20)]\\nprint(my_list)\",\n",
       "  'Merging_Two_Dictionaries': \"\\nmy_dict1 = {'a' : 1, 'b' : 2, 'c' : 3}\\nmy_dict2 = {'d' : 4, 'e' : 5, 'f' : 6}\\n\\n# Method 1\\nresult = { **my_dict1, **my_dict2}\\nprint(result)\\n\\n# Method 2\\nresult = my_dict1.copy()\\nresult.update(my_dict2)\\nprint(result)\\n\\n# Method 3\\nresult = {key: value for d in (my_dict1, my_dict2) for key, value in d.items()}\\nprint(result)\",\n",
       "  'File_Handling': \"\\n# Open a file\\nf = open('filename.txt')\\n\\n\\n# Read from a file\\nf = open('filename.txt', 'r')\\n\\n# To read the whole file\\nprint(f.read())\\n\\n# To read single line\\nprint(f.readline())\\n\\n\\n# Write to a file\\nf = open('filename.txt', 'w')\\nf.write('Writing into a file \\\\n')\\n\\n\\n# Closing a file\\nf.close()\",\n",
       "  'Calculating_Execution_Time': '\\nimport time\\n\\nstart_time = time.time()\\n\\n# printing all even numbers till 20\\nfor i in range(20):\\nif i % 2 == 0:\\nprint(i, end = \" \")\\n\\nend_time = time.time()\\ntime_taken = end_time - start_time\\nprint(\"\\\\nTime: \", time_taken)',\n",
       "  'Sorting_a_List_of_Dictionaries': '\\nperson = [\\n{\\n\\'name\\' : \\'alice\\',\\n\\'age\\' : 22,\\n\\'id\\' : 92345\\n},\\n{\\n\\'name\\' : \\'bob\\',\\n\\'age\\' : 24,\\n\\'id\\' : 52353\\n},\\n{\\n\\'name\\' : \\'tom\\',\\n\\'age\\' : 23,\\n\\'id\\' : 62257\\n}\\n]\\n\\n# Method 1\\nperson.sort(key=lambda item: item.get(\"id\"))\\nprint(person)\\n\\n# Method 2\\nperson = sorted(person, key=lambda item: item.get(\"id\"))\\nprint(person)',\n",
       "  'Finding_Highest_Frequency_Element': '\\nmy_list = [8,4,8,2,2,5,8,0,3,5,2,5,8,9,3,8]\\nprint(\"Most frequent item:\", max(set(my_list), key=my_list.count))',\n",
       "  'Error_Handling': '\\nnum1, num2 = 2,0\\ntry:\\nprint(num1 / num2)\\nexcept ZeroDivisionError:\\nprint(\"Exception! Division by Zero not permitted.\")\\nfinally:\\nprint(\"Finally block.\")',\n",
       "  'Finding_Substring_in_List_of_Strings': '\\nrecords = [\\n\"Vani Gupta, University of Hyderabad\",\\n\"Elon Musk, Tesla\",\\n\"Bill Gates, Microsoft\",\\n\"Steve Jobs, Apple\"\\n]\\n\\n# Method 1\\nname = \"Vani\"\\nfor record in records:\\nif record.find(name) >= 0:\\nprint(record)\\n\\n# Method 2\\nname = \"Musk\"\\nfor record in records:\\nif name in record:\\nprint(record)',\n",
       "  'String_Formatting': '\\nlanguage = \"Python\"\\n\\n# Method 1\\nprint(language + \" is my favourite programming language.\")\\n\\n# Method 2\\nprint(f\"I code in {language}\")\\n\\n# Method 3\\nprint(\"%s is very easy to learn.\" % (language))\\n\\n# Method 4\\nprint(\"I like the {} programming language.\".format(language))',\n",
       "  'Flattening_a_List': '\\nugly_list = [10,12,36,[41,59,63],[77],81,93]\\nflat = []\\nfor i in ugly_list:\\nif isinstance(i, list): flat.extend(i)\\nelse: flat.append(i)\\nprint(flat)',\n",
       "  'USING_F_STRINGS': \"\\n#Formatting strings with f string.\\nstr_val = 'books'\\nnum_val = 15\\nprint(f'{num_val} {str_val}') # 15 books\\nprint(f'{num_val % 2 = }') # 1\\nprint(f'{str_val!r}') # books\\n\\n#Dealing with floats\\nprice_val = 5.18362\\nprint(f'{price_val:.2f}') # 5.18\\n\\n#Formatting dates\\nfrom datetime import datetime;\\ndate_val = datetime.utcnow()\\nprint(f'{date_val=:%Y-%m-%d}') # date_val=2021-09-24\",\n",
       "  'STRING’S_SIZE_IN_BYTES': '\\nstr1 = \"hello\"\\nstr2 = \"😀\"\\n\\ndef str_size(s):\\n  return len(s.encode(\\'utf-8\\'))\\n\\nstr_size(str1)\\nstr_size(str2)',\n",
       "  'CHECKING_IF_A_FILE EXISTS': \"\\n#Checking if a file exists in two ways\\n#1- Using the OS module\\nimport os\\nexists = os.path.isfile('/path/to/file')\\n\\n#2- Use the pathlib module for a better performance\\nfrom pathlib import Path\\nconfig = Path('/path/to/file')\\nif config.is_file():\\n    pass\",\n",
       "  'PARSING_A_SPREADSHEET': '\\nimport csv\\ncsv_mapping_list = []\\nwith open(\"/path/to/data.csv\") as my_data:\\n    csv_reader = csv.reader(my_data, delimiter=\",\")\\n    line_count = 0\\n    for line in csv_reader:\\n        if line_count == 0:\\n            header = line\\n        else:\\n            row_dict = {key: value for key, value in zip(header, line)}\\n            csv_mapping_list.append(row_dict)\\n        line_count += 1',\n",
       "  'Get_Vowels': '\\ndef get_vowels(String):\\n    return [each for each in String if each in \"aeiou\"]\\nget_vowels(\"animal\") # [a, i, a]\\nget_vowels(\"sky\") # []\\nget_vowels(\"football\") # [o, o, a]',\n",
       "  'Check_duplicates': '\\ndef check_duplicate(lst):\\n    return len(lst) != len(set(lst))\\ncheck_duplicate([1,2,3,4,5,4,6]) # True\\ncheck_duplicate([1,2,3]) # False\\ncheck_duplicate([1,2,3,4,9]) # False',\n",
       "  'Filtering_False_Values': '\\ndef Filtering(lst):\\n    return list(filter(None,lst))\\nlst=[None,1,3,0,\"\",5,7]\\nFiltering(lst) #[1, 3, 5, 7]',\n",
       "  'Memory_Usage': '\\nimport sys\\nvar1=\"Python\"\\nvar2=100\\nvar3=True\\nprint(sys.getsizeof(var1)) #55\\nprint(sys.getsizeof(var2)) #28\\nprint(sys.getsizeof(var3)) #28',\n",
       "  'Shuffle_a_list': '\\nfrom random import shuffle\\nmy_list1=[1,2,3,4,5,6]\\nmy_list2=[\"A\",\"B\",\"C\",\"D\"]\\nshuffle(my_list1) # [4, 6, 1, 3, 2, 5]\\nshuffle(my_list2) # [\\'A\\', \\'D\\', \\'B\\', \\'C\\']',\n",
       "  'Chunk': '\\ndef chunk(my_list, size):\\n    return [my_list[i:i+size] for i in range(0,len(my_list), size)]\\nmy_list = [1, 2, 3, 4, 5, 6]\\nchunk(my_list, 2) # [[1, 2], [3, 4], [5, 6]]'}}"
      ]
     },
     "execution_count": 15,
     "metadata": {},
     "output_type": "execute_result"
    }
   ],
   "source": [
    "dict_main"
   ]
  },
  {
   "cell_type": "code",
   "execution_count": null,
   "id": "d69c8107",
   "metadata": {},
   "outputs": [],
   "source": []
  },
  {
   "cell_type": "code",
   "execution_count": 49,
   "id": "798405be",
   "metadata": {},
   "outputs": [
    {
     "data": {
      "text/plain": [
       "dict_keys(['userkey1', 'userkey2'])"
      ]
     },
     "execution_count": 49,
     "metadata": {},
     "output_type": "execute_result"
    }
   ],
   "source": [
    "import json\n",
    "  \n",
    "# Opening JSON file\n",
    "f = open('IdeaBox_Content.json')\n",
    "  \n",
    "# returns JSON object as \n",
    "# a dictionary\n",
    "data = json.load(f)\n",
    "  \n",
    "data.keys()"
   ]
  },
  {
   "cell_type": "code",
   "execution_count": 50,
   "id": "b11c59fb",
   "metadata": {},
   "outputs": [
    {
     "data": {
      "text/plain": [
       "['userkey1', 'userkey2']"
      ]
     },
     "execution_count": 50,
     "metadata": {},
     "output_type": "execute_result"
    }
   ],
   "source": [
    "L = list(data.keys())\n",
    "L"
   ]
  },
  {
   "cell_type": "code",
   "execution_count": 51,
   "id": "14233908",
   "metadata": {},
   "outputs": [
    {
     "name": "stdout",
     "output_type": "stream",
     "text": [
      "1\n"
     ]
    }
   ],
   "source": [
    "if \"userkey1\" in L:\n",
    "    print(\"1\")"
   ]
  },
  {
   "cell_type": "code",
   "execution_count": 25,
   "id": "ffb4b743",
   "metadata": {},
   "outputs": [],
   "source": [
    "import os\n",
    "os.mkdir('1234')\n",
    "os.mkdir('1234/templates')\n",
    "os.mkdir('1234/static')"
   ]
  },
  {
   "cell_type": "code",
   "execution_count": 29,
   "id": "43900a87",
   "metadata": {},
   "outputs": [],
   "source": [
    "os.mkdir('{}/sai'.format('1234'))"
   ]
  },
  {
   "cell_type": "code",
   "execution_count": null,
   "id": "1e485438",
   "metadata": {},
   "outputs": [],
   "source": [
    "import random\n"
   ]
  },
  {
   "cell_type": "code",
   "execution_count": null,
   "id": "171b9545",
   "metadata": {},
   "outputs": [],
   "source": []
  },
  {
   "cell_type": "code",
   "execution_count": 30,
   "id": "e1c708ce",
   "metadata": {},
   "outputs": [],
   "source": [
    "f = open(\"Demo_download_test/demofile3.py\", \"w\")\n",
    "f.write(\"\"\"mylist=(\"Iphone\",\"Pixel\",\"Samsung\")\n",
    "for i in mylist:\n",
    "    print(i)\"\"\")\n",
    "f.close()"
   ]
  },
  {
   "cell_type": "code",
   "execution_count": 32,
   "id": "0b9dc476",
   "metadata": {},
   "outputs": [],
   "source": [
    "with open('Demo_download_test/demofile3.py') as f:\n",
    "    lines = f.readlines()\n",
    "data = \"\".join(lines)"
   ]
  },
  {
   "cell_type": "code",
   "execution_count": 33,
   "id": "332e5b81",
   "metadata": {},
   "outputs": [
    {
     "data": {
      "text/plain": [
       "'mylist=(\"Iphone\",\"Pixel\",\"Samsung\")\\nfor i in mylist:\\n    print(i)'"
      ]
     },
     "execution_count": 33,
     "metadata": {},
     "output_type": "execute_result"
    }
   ],
   "source": [
    "data"
   ]
  },
  {
   "cell_type": "code",
   "execution_count": 45,
   "id": "a8febff6",
   "metadata": {},
   "outputs": [],
   "source": [
    "data_copy = '\\n'+'mylist=(\"Iphone\",\"Pixel\",\"Samsung\")\\nfor {} in mylist:\\n    print({})'"
   ]
  },
  {
   "cell_type": "code",
   "execution_count": 68,
   "id": "12737eb8",
   "metadata": {},
   "outputs": [],
   "source": [
    "f = open(\"Demo_download_test/demofile2.py\", \"w\")\n",
    "f.write(data_copy)\n",
    "f.close()"
   ]
  },
  {
   "cell_type": "markdown",
   "id": "90251765",
   "metadata": {},
   "source": [
    "## Below is the test code"
   ]
  },
  {
   "cell_type": "code",
   "execution_count": 128,
   "id": "0ce84168",
   "metadata": {},
   "outputs": [],
   "source": [
    "def change_url_file_dynamic(url,name):\n",
    "        with open('Demo_download_test/demofile2.py') as f:\n",
    "            lines = f.readlines()\n",
    "        data = \"\".join(lines)\n",
    "        first_index = data.index('#')\n",
    "        #name = 'Vijaya'\n",
    "        data = data[:first_index]+'from '+str(name)+\".views import cross\\n\"+'\\t'+data[first_index:]\n",
    "        last_index = data.index('##')\n",
    "        #last_index = len(data)-last_index\n",
    "\n",
    "        data1 = data[:last_index]+\"path('\"+name+\"',cross,kwargs=\"\n",
    "        data2 = \"{'name':'\"+str(name)+\"'}),\\n\"+'\\t'+data[last_index:]\n",
    "        data = data1+data2\n",
    "        f = open(\"Demo_download_test/demofile2.py\", \"w\")\n",
    "        f.write(data)\n",
    "        f.close()"
   ]
  },
  {
   "cell_type": "code",
   "execution_count": 129,
   "id": "35f5bab7",
   "metadata": {},
   "outputs": [],
   "source": [
    "change_url_file_dynamic(\"Demo_download_test/demofile2.py\",name=\"hello\")"
   ]
  },
  {
   "cell_type": "code",
   "execution_count": 81,
   "id": "741c476e",
   "metadata": {},
   "outputs": [],
   "source": [
    "path('abcd/',cross,kwargs={'name':'abcd'}),"
   ]
  },
  {
   "cell_type": "code",
   "execution_count": 111,
   "id": "4674a8a9",
   "metadata": {},
   "outputs": [
    {
     "data": {
      "text/plain": [
       "\"\\nfrom django.urls import path,include\\ntry:\\n    from .views import index1  \\n    from .abcd.views import cross\\n    from {}.views import cross\\n\\t#addthe import\\n    urlpatterns = [\\n    path('demo/', index1),\\n    path('abcd/',cross,kwargs={'name':'abcd'}),\\n    path(sai,cross,kwargs=\""
      ]
     },
     "execution_count": 111,
     "metadata": {},
     "output_type": "execute_result"
    }
   ],
   "source": [
    "data1"
   ]
  },
  {
   "cell_type": "code",
   "execution_count": 3,
   "id": "56a38148",
   "metadata": {},
   "outputs": [
    {
     "data": {
      "text/plain": [
       "\"\\nfrom django.urls import path\\nfrom django.http import JsonResponse\\nimport sys\\nimport traceback\\nfrom django.shortcuts import render,redirect\\nurlpatterns = []\\n#from .views import cross\\ntry:\\n    from .lmif.views import cross as lmif\\nexcept:\\n    pass\\n\\ntry:\\n    from .DrEF.views import cross as DrEF\\nexcept:\\n    pass\\n\\ntry:\\n    from .yXwt.views import cross as yXwt\\nexcept:\\n    pass\\n\\ntry:\\n    urlpatterns.append(path('lmif/',lmif,kwargs={'name':'lmif'}))\\nexcept:\\n    pass\\n\\ntry:\\n\\turlpatterns.append(path('DrEF/',DrEF,kwargs={'name':'DrEF'}))\\nexcept:\\n\\tpass\\n\\ntry:\\n\\turlpatterns.append(path('yXwt/',yXwt,kwargs={'name':'yXwt'}))\\nexcept:\\n\\tpass\\n\\n\\n\\n\\n\\n\\n\\n\\n\\n\\n\\n\""
      ]
     },
     "execution_count": 3,
     "metadata": {},
     "output_type": "execute_result"
    }
   ],
   "source": [
    "with open('Demo_download_test/demofile2.py') as f:\n",
    "            lines = f.readlines()\n",
    "data = \"\".join(lines)\n",
    "data"
   ]
  },
  {
   "cell_type": "code",
   "execution_count": 41,
   "id": "d8e3a2ce",
   "metadata": {},
   "outputs": [],
   "source": [
    "data = \"\\nfrom django.urls import path\\nfrom django.http import JsonResponse\\nimport sys\\nimport traceback\\nfrom django.shortcuts import render,redirect\\nurlpatterns = []\\n#from .views import cross\\ntry:\\n    from .lmif.views import cross as lmif\\nexcept:\\n    pass\\n\\ntry:\\n    from .DrEF.views import cross as DrEF\\nexcept:\\n    pass\\n\\ntry:\\n    from .yXwt.views import cross as yXwt\\nexcept:\\n    pass\\n\\ntry:\\n    urlpatterns.append(path('lmif/',lmif,kwargs={'name':'lmif'}))\\nexcept:\\n    pass\\n\\ntry:\\n\\turlpatterns.append(path('DrEF/',DrEF,kwargs={'name':'DrEF'}))\\nexcept:\\n\\tpass\\n\\ntry:\\n\\turlpatterns.append(path('yXwt/',yXwt,kwargs={'name':'yXwt'}))\\nexcept:\\n\\tpass\""
   ]
  },
  {
   "cell_type": "code",
   "execution_count": 40,
   "id": "43a92674",
   "metadata": {},
   "outputs": [
    {
     "data": {
      "text/plain": [
       "\"try:\\n    from .{}.views import cross as {}\\nexcept:\\n    pass\\n\\ntry:\\n\\turlpatterns.append(path('{}/',yXwt,kwargs={'name':'{}'}))\\nexcept:\\n\\tpass\""
      ]
     },
     "execution_count": 40,
     "metadata": {},
     "output_type": "execute_result"
    }
   ],
   "source": [
    "with open('Demo_download_test/demofile3.py') as f:\n",
    "            lines = f.readlines()\n",
    "data = \"\".join(lines)\n",
    "data"
   ]
  },
  {
   "cell_type": "code",
   "execution_count": 7,
   "id": "91e8881c",
   "metadata": {},
   "outputs": [
    {
     "ename": "KeyError",
     "evalue": "\"'name'\"",
     "output_type": "error",
     "traceback": [
      "\u001b[1;31m---------------------------------------------------------------------------\u001b[0m",
      "\u001b[1;31mKeyError\u001b[0m                                  Traceback (most recent call last)",
      "\u001b[1;32m~\\AppData\\Local\\Temp/ipykernel_12836/3317629744.py\u001b[0m in \u001b[0;36m<module>\u001b[1;34m\u001b[0m\n\u001b[0;32m      1\u001b[0m \u001b[0mname\u001b[0m \u001b[1;33m=\u001b[0m \u001b[1;34m\"sai\"\u001b[0m\u001b[1;33m\u001b[0m\u001b[1;33m\u001b[0m\u001b[0m\n\u001b[1;32m----> 2\u001b[1;33m \u001b[0mdata\u001b[0m\u001b[1;33m.\u001b[0m\u001b[0mformat\u001b[0m\u001b[1;33m(\u001b[0m\u001b[0mname\u001b[0m\u001b[1;33m,\u001b[0m\u001b[0mname\u001b[0m\u001b[1;33m,\u001b[0m\u001b[0mname\u001b[0m\u001b[1;33m,\u001b[0m\u001b[0mname\u001b[0m\u001b[1;33m)\u001b[0m\u001b[1;33m\u001b[0m\u001b[1;33m\u001b[0m\u001b[0m\n\u001b[0m",
      "\u001b[1;31mKeyError\u001b[0m: \"'name'\""
     ]
    }
   ],
   "source": [
    "name = \"sai\"\n",
    "data.format(name,name,name,name)"
   ]
  },
  {
   "cell_type": "code",
   "execution_count": 15,
   "id": "bbe493cb",
   "metadata": {},
   "outputs": [
    {
     "data": {
      "text/plain": [
       "117"
      ]
     },
     "execution_count": 15,
     "metadata": {},
     "output_type": "execute_result"
    }
   ],
   "source": [
    "data.index('#')"
   ]
  },
  {
   "cell_type": "code",
   "execution_count": 37,
   "id": "87324af7",
   "metadata": {},
   "outputs": [],
   "source": [
    "name = \"sai\"\n",
    "output_data = data[:96].format(name,name,name)+data[96:116]+\":'\"+str(name)+\"'}))\\nexcept:\\n\\tpass\""
   ]
  },
  {
   "cell_type": "code",
   "execution_count": 42,
   "id": "3290a2a4",
   "metadata": {},
   "outputs": [],
   "source": [
    "f = open(\"Demo_download_test/demofile2.py\", \"w\")\n",
    "f.write(data)\n",
    "f.close()"
   ]
  },
  {
   "cell_type": "code",
   "execution_count": 24,
   "id": "83caa722",
   "metadata": {},
   "outputs": [
    {
     "data": {
      "text/plain": [
       "\"#'{}'}))\\nexcept:\\n\\tpass\""
      ]
     },
     "execution_count": 24,
     "metadata": {},
     "output_type": "execute_result"
    }
   ],
   "source": [
    "data[117:]"
   ]
  },
  {
   "cell_type": "code",
   "execution_count": 20,
   "id": "59714dd0",
   "metadata": {},
   "outputs": [
    {
     "data": {
      "text/plain": [
       "\",yXwt,kwargs={'name':#'{}'}))\\nexcept:\\n\\tpass\""
      ]
     },
     "execution_count": 20,
     "metadata": {},
     "output_type": "execute_result"
    }
   ],
   "source": [
    "data[96:]"
   ]
  },
  {
   "cell_type": "code",
   "execution_count": 34,
   "id": "4576967e",
   "metadata": {},
   "outputs": [
    {
     "data": {
      "text/plain": [
       "\"try:\\n    from .{}.views import cross as {}\\nexcept:\\n    pass\\n\\ntry:\\n\\turlpatterns.append(path('{}/'\""
      ]
     },
     "execution_count": 34,
     "metadata": {},
     "output_type": "execute_result"
    }
   ],
   "source": [
    "data[:96]"
   ]
  },
  {
   "cell_type": "code",
   "execution_count": null,
   "id": "1e3d6108",
   "metadata": {},
   "outputs": [],
   "source": []
  }
 ],
 "metadata": {
  "kernelspec": {
   "display_name": "Python 3 (ipykernel)",
   "language": "python",
   "name": "python3"
  },
  "language_info": {
   "codemirror_mode": {
    "name": "ipython",
    "version": 3
   },
   "file_extension": ".py",
   "mimetype": "text/x-python",
   "name": "python",
   "nbconvert_exporter": "python",
   "pygments_lexer": "ipython3",
   "version": "3.9.7"
  }
 },
 "nbformat": 4,
 "nbformat_minor": 5
}
